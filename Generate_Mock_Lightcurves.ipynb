{
 "cells": [
  {
   "cell_type": "code",
   "execution_count": 1,
   "metadata": {
    "collapsed": false
   },
   "outputs": [
    {
     "name": "stdout",
     "output_type": "stream",
     "text": [
      "Neural networks not available in this version of scikit-learn. Neural networks are available from development version 0.18.\n"
     ]
    }
   ],
   "source": [
    "%load_ext autoreload\n",
    "%autoreload #Use this to reload modules if they are changed on disk while the notebook is running\n",
    "from __future__ import division\n",
    "from snmachine import sndata, snfeatures, snclassifier, tsne_plot\n",
    "import numpy as np\n",
    "import matplotlib.pyplot as plt\n",
    "import time, os, pywt,subprocess\n",
    "from sklearn.decomposition import PCA\n",
    "from astropy.table import Table,join,vstack\n",
    "from astropy.io import fits\n",
    "import sklearn.metrics \n",
    "import sncosmo\n",
    "%matplotlib nbagg\n",
    "from astropy.table import Column"
   ]
  },
  {
   "cell_type": "markdown",
   "metadata": {},
   "source": [
    "## SN numbers with classification code\n",
    "SN001695   - 2\n",
    "\n",
    "2457 - 33\n",
    "\n",
    "2542 - 1\n",
    "\n",
    "5399 - 2\n",
    "\n",
    "13481 - 2\n",
    "\n",
    "13866 - 1 \n",
    "\n",
    "16742 - 21\n",
    "\n",
    "17270 - 32\n",
    "\n",
    "27266 -32\n",
    "\n",
    "64968 - 23\n",
    "\n",
    "149147 -21"
   ]
  },
  {
   "cell_type": "code",
   "execution_count": 2,
   "metadata": {
    "collapsed": true
   },
   "outputs": [],
   "source": [
    "dataset='spcc'"
   ]
  },
  {
   "cell_type": "code",
   "execution_count": 3,
   "metadata": {
    "collapsed": false
   },
   "outputs": [
    {
     "data": {
      "text/plain": [
       "1"
      ]
     },
     "execution_count": 3,
     "metadata": {},
     "output_type": "execute_result"
    }
   ],
   "source": [
    "# WARNING...\n",
    "#Multinest uses a hardcoded character limit for the output file names. I believe it's a limit of 100 characters\n",
    "#so avoid making this file path to lengthy if using nested sampling or multinest output file names will be truncated\n",
    "\n",
    "#Change outdir to somewhere on your computer if you like\n",
    "outdir=os.path.join('output_%s_no_z' %dataset,'')\n",
    "out_features=os.path.join(outdir,'features') #Where we save the extracted features to\n",
    "out_class=os.path.join(outdir,'classifications') #Where we save the classification probabilities and ROC curves\n",
    "out_int=os.path.join(outdir,'int') #Any intermediate files (such as multinest chains or GP fits)\n",
    "\n",
    "subprocess.call(['mkdir',outdir])\n",
    "subprocess.call(['mkdir',out_features])\n",
    "subprocess.call(['mkdir',out_class])\n",
    "subprocess.call(['mkdir',out_int])"
   ]
  },
  {
   "cell_type": "code",
   "execution_count": 4,
   "metadata": {
    "collapsed": false
   },
   "outputs": [],
   "source": [
    "#Data root\n",
    "rt=os.path.join('SPCC_SUBSET','')"
   ]
  },
  {
   "cell_type": "code",
   "execution_count": 5,
   "metadata": {
    "collapsed": false
   },
   "outputs": [
    {
     "name": "stdout",
     "output_type": "stream",
     "text": [
      "Reading data...\n",
      "3 objects read into memory.\n"
     ]
    }
   ],
   "source": [
    "dat=sndata.Dataset(rt)"
   ]
  },
  {
   "cell_type": "code",
   "execution_count": 6,
   "metadata": {
    "collapsed": true
   },
   "outputs": [],
   "source": [
    "read_from_file=False #True #We can use this flag to quickly rerun from saved features\n",
    "run_name=os.path.join(out_features,'%s_all' %dataset)"
   ]
  },
  {
   "cell_type": "code",
   "execution_count": 7,
   "metadata": {
    "collapsed": false
   },
   "outputs": [],
   "source": [
    "dat.object_names[0]\n",
    "types=dat.get_types()\n",
    "types['Type'][np.floor(types['Type']/10)==2]=2\n",
    "types['Type'][np.floor(types['Type']/10)==3]=3"
   ]
  },
  {
   "cell_type": "code",
   "execution_count": 8,
   "metadata": {
    "collapsed": false,
    "scrolled": false
   },
   "outputs": [],
   "source": [
    "#test_table = dat.data['DES_SN001695.DAT'] #get_lightcurve\n",
    "\n",
    "#dat.plot_all()\n",
    "#dat.data[dat.object_names[0]]"
   ]
  },
  {
   "cell_type": "code",
   "execution_count": 9,
   "metadata": {
    "collapsed": false
   },
   "outputs": [],
   "source": [
    "type_II = []\n",
    "for i in range(len(dat.data['DES_SN002457.DAT']['flux'])):\n",
    "    type_II.append(np.random.normal(dat.data['DES_SN002457.DAT']['flux'][i], dat.data['DES_SN002457.DAT']['flux_error'][i], 5))"
   ]
  },
  {
   "cell_type": "code",
   "execution_count": 10,
   "metadata": {
    "collapsed": false
   },
   "outputs": [],
   "source": [
    "type_Ia = []\n",
    "for i in range(len(dat.data['DES_SN002542.DAT']['flux'])):\n",
    "    type_Ia.append(np.random.normal(dat.data['DES_SN002542.DAT']['flux'][i], dat.data['DES_SN002542.DAT']['flux_error'][i], 5))"
   ]
  },
  {
   "cell_type": "code",
   "execution_count": 11,
   "metadata": {
    "collapsed": true
   },
   "outputs": [],
   "source": [
    "type_Ibc = []\n",
    "for i in range(len(dat.data['DES_SN005399.DAT']['flux'])):\n",
    "    type_Ibc.append(np.random.normal(dat.data['DES_SN005399.DAT']['flux'][i], dat.data['DES_SN005399.DAT']['flux_error'][i], 5))"
   ]
  },
  {
   "cell_type": "code",
   "execution_count": 12,
   "metadata": {
    "collapsed": false
   },
   "outputs": [],
   "source": [
    "type_Ia = np.array(type_Ia)\n",
    "type_Ibc = np.array(type_Ibc)\n",
    "type_II = np.array(type_II)"
   ]
  },
  {
   "cell_type": "code",
   "execution_count": 13,
   "metadata": {
    "collapsed": false
   },
   "outputs": [],
   "source": [
    "#test_table.replace_column('flux', type_II[:,0])"
   ]
  },
  {
   "cell_type": "code",
   "execution_count": 14,
   "metadata": {
    "collapsed": false
   },
   "outputs": [],
   "source": [
    "#test_table.write('testing.dat',format = 'ascii')"
   ]
  },
  {
   "cell_type": "code",
   "execution_count": 15,
   "metadata": {
    "collapsed": false
   },
   "outputs": [],
   "source": [
    "#dat.data['DES_SN001695.DAT']\n",
    "#print type_Ia"
   ]
  },
  {
   "cell_type": "code",
   "execution_count": 16,
   "metadata": {
    "collapsed": false
   },
   "outputs": [],
   "source": [
    "#isinstance(dat.object_names, np.ndarray)"
   ]
  },
  {
   "cell_type": "code",
   "execution_count": 17,
   "metadata": {
    "collapsed": false
   },
   "outputs": [],
   "source": [
    "#test_table_II = dat.data['DES_SN002457.DAT']"
   ]
  },
  {
   "cell_type": "code",
   "execution_count": 25,
   "metadata": {
    "collapsed": false
   },
   "outputs": [],
   "source": [
    "#dir(dat)"
   ]
  },
  {
   "cell_type": "code",
   "execution_count": 19,
   "metadata": {
    "collapsed": false
   },
   "outputs": [],
   "source": [
    "#print data[0:10]\n",
    "#print data[5].split()\n",
    "def make_new_data(filename, table, output):\n",
    "    with open(filename) as f:\n",
    "        data = f.read().split(\"\\n\")\n",
    "    filters = data[5].split()\n",
    "    survey = data[0].split()\n",
    "    stuffRA = data[6].split()\n",
    "    stuffDec = data[7].split()\n",
    "    MWEBV = data[11].split()\n",
    "    table.meta = {survey[0][:-1]: survey[1], stuffRA[0][:-1]: stuffRA[1], stuffDec[0][:-1]: stuffDec[1],filters[0][:-1]: filters[1],\n",
    "                 MWEBV[0][:-1]: MWEBV[1]}\n",
    "    #table.rename_column('mjd', 'MJD')\n",
    "    #table.rename_column('filter ', 'FLT')\n",
    "    #table.rename_column('flux', 'FLUXCAL')\n",
    "    #table.rename_column('flux_error', 'FLUXCALERR')\n",
    "    sncosmo.write_lc(table, 'new_mocks/%s.dat'%output,pedantic=True, format = 'snana')"
   ]
  },
  {
   "cell_type": "code",
   "execution_count": 20,
   "metadata": {
    "collapsed": false
   },
   "outputs": [],
   "source": [
    "filename_II = 'SPCC_SUBSET/DES_SN002457.DAT'\n",
    "filename_Ia = 'SPCC_SUBSET/DES_SN002542.DAT'\n",
    "filename_Ibc = 'SPCC_SUBSET/DES_SN005399.DAT'\n",
    "\n",
    "test_table_II = dat.data['DES_SN002457.DAT']\n",
    "test_table_Ia = dat.data['DES_SN002542.DAT']\n",
    "test_table_Ibc = dat.data['DES_SN005399.DAT']\n",
    "#print test_table_II\n",
    "\n",
    "#test_table_Ia.replace_column('mjd', test_table_Ia['mjd']+56178)\n",
    "#test_table_II.replace_column('mjd', test_table_II['mjd']+56178)\n",
    "#test_table_Ibc.replace_column('mjd', test_table_Ibc['mjd']+56178)\n",
    "\n",
    "test_table_II.rename_column('flux', 'FLUXCAL')\n",
    "test_table_II.rename_column('flux_error', 'FLUXCALERR')\n",
    "    \n",
    "test_table_Ibc.rename_column('flux', 'FLUXCAL')\n",
    "test_table_Ibc.rename_column('flux_error', 'FLUXCALERR')\n",
    "    \n",
    "test_table_Ia.rename_column('flux', 'FLUXCAL')\n",
    "test_table_Ia.rename_column('flux_error', 'FLUXCALERR')\n",
    "\n",
    "objs=[]\n",
    "new_data={}\n",
    "\n",
    "for i in range(5):\n",
    "    \n",
    "    \n",
    "    test_table_Ia.replace_column('FLUXCAL', type_Ia[:,i])\n",
    "\n",
    "     \n",
    "    test_table_Ibc.replace_column('FLUXCAL', type_Ibc[:,i])\n",
    " \n",
    "    test_table_II.replace_column('FLUXCAL', type_II[:,i])\n",
    "    \n",
    "    make_new_data(filename_Ibc, test_table_Ibc, 'Ibc_%s'%i)\n",
    "    make_new_data(filename_II, test_table_II, 'II_%s'%i)\n",
    "    make_new_data(filename_Ia, test_table_Ia, 'Ia_%s'%i)\n",
    "    \n",
    "    #objs.append((str)(i))\n",
    "    new_data[(str)(i)]=test_table_II.copy()  #new_light_curve_Ia\n",
    "    new_data[(str)(i+5)]=test_table_Ia.copy()#new_light_curve_II\n",
    "    new_data[(str)(i+10)]=test_table_Ibc.copy()#new_light_curve_Ibc\n",
    "    \n",
    "sncosmo.read_lc(new_data)\n",
    "#new_data = Counter(new_data_Ia) + Counter(new_data_II) + Counter(new_data_Ibc)\n",
    "\n",
    "for i in range(15):    \n",
    "    objs.append((str)(i))\n",
    "    \n",
    "dat.object_names=np.asarray(objs)\n",
    "dat.data=new_data"
   ]
  },
  {
   "cell_type": "code",
   "execution_count": 23,
   "metadata": {
    "collapsed": false
   },
   "outputs": [
    {
     "name": "stdout",
     "output_type": "stream",
     "text": [
      "Reading data...\n"
     ]
    },
    {
     "ename": "ValueError",
     "evalue": "zero-size array to reduction operation minimum which has no identity",
     "output_type": "error",
     "traceback": [
      "\u001b[0;31m---------------------------------------------------------------------------\u001b[0m",
      "\u001b[0;31mValueError\u001b[0m                                Traceback (most recent call last)",
      "\u001b[0;32m<ipython-input-23-3b2d724dac40>\u001b[0m in \u001b[0;36m<module>\u001b[0;34m()\u001b[0m\n\u001b[1;32m      1\u001b[0m \u001b[0mrt1\u001b[0m\u001b[0;34m=\u001b[0m\u001b[0mos\u001b[0m\u001b[0;34m.\u001b[0m\u001b[0mpath\u001b[0m\u001b[0;34m.\u001b[0m\u001b[0mjoin\u001b[0m\u001b[0;34m(\u001b[0m\u001b[0;34m'new_mocks'\u001b[0m\u001b[0;34m,\u001b[0m\u001b[0;34m''\u001b[0m\u001b[0;34m)\u001b[0m\u001b[0;34m\u001b[0m\u001b[0m\n\u001b[0;32m----> 2\u001b[0;31m \u001b[0mdat1\u001b[0m\u001b[0;34m=\u001b[0m\u001b[0msndata\u001b[0m\u001b[0;34m.\u001b[0m\u001b[0mDataset\u001b[0m\u001b[0;34m(\u001b[0m\u001b[0mrt1\u001b[0m\u001b[0;34m)\u001b[0m\u001b[0;34m\u001b[0m\u001b[0m\n\u001b[0m",
      "\u001b[0;32m/Users/karaponder/Projects/Basic_Codes/snmachine/snmachine/sndata.pyc\u001b[0m in \u001b[0;36m__init__\u001b[0;34m(self, folder, subset, filter_set)\u001b[0m\n\u001b[1;32m    106\u001b[0m         \u001b[0;32mprint\u001b[0m \u001b[0;34m'Reading data...'\u001b[0m\u001b[0;34m\u001b[0m\u001b[0m\n\u001b[1;32m    107\u001b[0m         \u001b[0;32mfor\u001b[0m \u001b[0mi\u001b[0m \u001b[0;32min\u001b[0m \u001b[0mrange\u001b[0m\u001b[0;34m(\u001b[0m\u001b[0mlen\u001b[0m\u001b[0;34m(\u001b[0m\u001b[0mself\u001b[0m\u001b[0;34m.\u001b[0m\u001b[0mobject_names\u001b[0m\u001b[0;34m)\u001b[0m\u001b[0;34m)\u001b[0m\u001b[0;34m:\u001b[0m\u001b[0;34m\u001b[0m\u001b[0m\n\u001b[0;32m--> 108\u001b[0;31m             \u001b[0mlc\u001b[0m\u001b[0;34m=\u001b[0m\u001b[0mself\u001b[0m\u001b[0;34m.\u001b[0m\u001b[0mget_lightcurve\u001b[0m\u001b[0;34m(\u001b[0m\u001b[0mself\u001b[0m\u001b[0;34m.\u001b[0m\u001b[0mobject_names\u001b[0m\u001b[0;34m[\u001b[0m\u001b[0mi\u001b[0m\u001b[0;34m]\u001b[0m\u001b[0;34m)\u001b[0m\u001b[0;34m\u001b[0m\u001b[0m\n\u001b[0m\u001b[1;32m    109\u001b[0m             \u001b[0;32mif\u001b[0m \u001b[0mlen\u001b[0m\u001b[0;34m(\u001b[0m\u001b[0mlc\u001b[0m\u001b[0;34m[\u001b[0m\u001b[0;34m'mjd'\u001b[0m\u001b[0;34m]\u001b[0m\u001b[0;34m>\u001b[0m\u001b[0;36m0\u001b[0m\u001b[0;34m)\u001b[0m\u001b[0;34m:\u001b[0m\u001b[0;34m\u001b[0m\u001b[0m\n\u001b[1;32m    110\u001b[0m                 \u001b[0mself\u001b[0m\u001b[0;34m.\u001b[0m\u001b[0mdata\u001b[0m\u001b[0;34m[\u001b[0m\u001b[0mself\u001b[0m\u001b[0;34m.\u001b[0m\u001b[0mobject_names\u001b[0m\u001b[0;34m[\u001b[0m\u001b[0mi\u001b[0m\u001b[0;34m]\u001b[0m\u001b[0;34m]\u001b[0m\u001b[0;34m=\u001b[0m\u001b[0mlc\u001b[0m\u001b[0;34m\u001b[0m\u001b[0m\n",
      "\u001b[0;32m/Users/karaponder/Projects/Basic_Codes/snmachine/snmachine/sndata.pyc\u001b[0m in \u001b[0;36mget_lightcurve\u001b[0;34m(self, flname)\u001b[0m\n\u001b[1;32m    208\u001b[0m         \u001b[0mflux\u001b[0m\u001b[0;34m=\u001b[0m\u001b[0mnp\u001b[0m\u001b[0;34m.\u001b[0m\u001b[0marray\u001b[0m\u001b[0;34m(\u001b[0m\u001b[0mflux\u001b[0m\u001b[0;34m)\u001b[0m\u001b[0;34m\u001b[0m\u001b[0m\n\u001b[1;32m    209\u001b[0m         \u001b[0mfluxerr\u001b[0m\u001b[0;34m=\u001b[0m\u001b[0mnp\u001b[0m\u001b[0;34m.\u001b[0m\u001b[0marray\u001b[0m\u001b[0;34m(\u001b[0m\u001b[0mfluxerr\u001b[0m\u001b[0;34m)\u001b[0m\u001b[0;34m\u001b[0m\u001b[0m\n\u001b[0;32m--> 210\u001b[0;31m         \u001b[0mstart_mjd\u001b[0m\u001b[0;34m=\u001b[0m\u001b[0mmjd\u001b[0m\u001b[0;34m.\u001b[0m\u001b[0mmin\u001b[0m\u001b[0;34m(\u001b[0m\u001b[0;34m)\u001b[0m\u001b[0;34m\u001b[0m\u001b[0m\n\u001b[0m\u001b[1;32m    211\u001b[0m         \u001b[0mmjd\u001b[0m\u001b[0;34m=\u001b[0m\u001b[0mmjd\u001b[0m\u001b[0;34m-\u001b[0m\u001b[0mstart_mjd\u001b[0m \u001b[0;31m#We shift the times of the observations to all start at zero. If required, the mjd of the initial observation is stored in the metadata.\u001b[0m\u001b[0;34m\u001b[0m\u001b[0m\n\u001b[1;32m    212\u001b[0m         \u001b[0;31m#Note: obviously this will only zero the observations in one filter band, the others have to be zeroed if fitting functions.\u001b[0m\u001b[0;34m\u001b[0m\u001b[0;34m\u001b[0m\u001b[0m\n",
      "\u001b[0;32m//anaconda/lib/python2.7/site-packages/numpy/core/_methods.pyc\u001b[0m in \u001b[0;36m_amin\u001b[0;34m(a, axis, out, keepdims)\u001b[0m\n\u001b[1;32m     27\u001b[0m \u001b[0;34m\u001b[0m\u001b[0m\n\u001b[1;32m     28\u001b[0m \u001b[0;32mdef\u001b[0m \u001b[0m_amin\u001b[0m\u001b[0;34m(\u001b[0m\u001b[0ma\u001b[0m\u001b[0;34m,\u001b[0m \u001b[0maxis\u001b[0m\u001b[0;34m=\u001b[0m\u001b[0mNone\u001b[0m\u001b[0;34m,\u001b[0m \u001b[0mout\u001b[0m\u001b[0;34m=\u001b[0m\u001b[0mNone\u001b[0m\u001b[0;34m,\u001b[0m \u001b[0mkeepdims\u001b[0m\u001b[0;34m=\u001b[0m\u001b[0mFalse\u001b[0m\u001b[0;34m)\u001b[0m\u001b[0;34m:\u001b[0m\u001b[0;34m\u001b[0m\u001b[0m\n\u001b[0;32m---> 29\u001b[0;31m     \u001b[0;32mreturn\u001b[0m \u001b[0mumr_minimum\u001b[0m\u001b[0;34m(\u001b[0m\u001b[0ma\u001b[0m\u001b[0;34m,\u001b[0m \u001b[0maxis\u001b[0m\u001b[0;34m,\u001b[0m \u001b[0mNone\u001b[0m\u001b[0;34m,\u001b[0m \u001b[0mout\u001b[0m\u001b[0;34m,\u001b[0m \u001b[0mkeepdims\u001b[0m\u001b[0;34m)\u001b[0m\u001b[0;34m\u001b[0m\u001b[0m\n\u001b[0m\u001b[1;32m     30\u001b[0m \u001b[0;34m\u001b[0m\u001b[0m\n\u001b[1;32m     31\u001b[0m \u001b[0;32mdef\u001b[0m \u001b[0m_sum\u001b[0m\u001b[0;34m(\u001b[0m\u001b[0ma\u001b[0m\u001b[0;34m,\u001b[0m \u001b[0maxis\u001b[0m\u001b[0;34m=\u001b[0m\u001b[0mNone\u001b[0m\u001b[0;34m,\u001b[0m \u001b[0mdtype\u001b[0m\u001b[0;34m=\u001b[0m\u001b[0mNone\u001b[0m\u001b[0;34m,\u001b[0m \u001b[0mout\u001b[0m\u001b[0;34m=\u001b[0m\u001b[0mNone\u001b[0m\u001b[0;34m,\u001b[0m \u001b[0mkeepdims\u001b[0m\u001b[0;34m=\u001b[0m\u001b[0mFalse\u001b[0m\u001b[0;34m)\u001b[0m\u001b[0;34m:\u001b[0m\u001b[0;34m\u001b[0m\u001b[0m\n",
      "\u001b[0;31mValueError\u001b[0m: zero-size array to reduction operation minimum which has no identity"
     ]
    }
   ],
   "source": [
    "rt1=os.path.join('new_mocks','')\n",
    "dat1=sndata.Dataset(rt1)"
   ]
  },
  {
   "cell_type": "code",
   "execution_count": 19,
   "metadata": {
    "collapsed": false
   },
   "outputs": [
    {
     "ename": "KeyError",
     "evalue": "'type'",
     "output_type": "error",
     "traceback": [
      "\u001b[0;31m---------------------------------------------------------------------------\u001b[0m",
      "\u001b[0;31mKeyError\u001b[0m                                  Traceback (most recent call last)",
      "\u001b[0;32m<ipython-input-19-cf882eb00990>\u001b[0m in \u001b[0;36m<module>\u001b[0;34m()\u001b[0m\n\u001b[1;32m      1\u001b[0m \u001b[0;31m#For now we restrict ourselves to three supernova types: Ia (1), II (2) and Ibc (3)\u001b[0m\u001b[0;34m\u001b[0m\u001b[0;34m\u001b[0m\u001b[0m\n\u001b[0;32m----> 2\u001b[0;31m \u001b[0mtypes\u001b[0m\u001b[0;34m=\u001b[0m\u001b[0mdat\u001b[0m\u001b[0;34m.\u001b[0m\u001b[0mget_types\u001b[0m\u001b[0;34m(\u001b[0m\u001b[0;34m)\u001b[0m\u001b[0;34m\u001b[0m\u001b[0m\n\u001b[0m\u001b[1;32m      3\u001b[0m \u001b[0mtypes\u001b[0m\u001b[0;34m[\u001b[0m\u001b[0;34m'Type'\u001b[0m\u001b[0;34m]\u001b[0m\u001b[0;34m[\u001b[0m\u001b[0mnp\u001b[0m\u001b[0;34m.\u001b[0m\u001b[0mfloor\u001b[0m\u001b[0;34m(\u001b[0m\u001b[0mtypes\u001b[0m\u001b[0;34m[\u001b[0m\u001b[0;34m'Type'\u001b[0m\u001b[0;34m]\u001b[0m\u001b[0;34m/\u001b[0m\u001b[0;36m10\u001b[0m\u001b[0;34m)\u001b[0m\u001b[0;34m==\u001b[0m\u001b[0;36m2\u001b[0m\u001b[0;34m]\u001b[0m\u001b[0;34m=\u001b[0m\u001b[0;36m2\u001b[0m\u001b[0;34m\u001b[0m\u001b[0m\n\u001b[1;32m      4\u001b[0m \u001b[0mtypes\u001b[0m\u001b[0;34m[\u001b[0m\u001b[0;34m'Type'\u001b[0m\u001b[0;34m]\u001b[0m\u001b[0;34m[\u001b[0m\u001b[0mnp\u001b[0m\u001b[0;34m.\u001b[0m\u001b[0mfloor\u001b[0m\u001b[0;34m(\u001b[0m\u001b[0mtypes\u001b[0m\u001b[0;34m[\u001b[0m\u001b[0;34m'Type'\u001b[0m\u001b[0;34m]\u001b[0m\u001b[0;34m/\u001b[0m\u001b[0;36m10\u001b[0m\u001b[0;34m)\u001b[0m\u001b[0;34m==\u001b[0m\u001b[0;36m3\u001b[0m\u001b[0;34m]\u001b[0m\u001b[0;34m=\u001b[0m\u001b[0;36m3\u001b[0m\u001b[0;34m\u001b[0m\u001b[0m\n",
      "\u001b[0;32m/Users/karaponder/Projects/Basic_Codes/snmachine/snmachine/sndata.pyc\u001b[0m in \u001b[0;36mget_types\u001b[0;34m(self)\u001b[0m\n\u001b[1;32m    364\u001b[0m         \u001b[0mtyps\u001b[0m\u001b[0;34m=\u001b[0m\u001b[0;34m[\u001b[0m\u001b[0;34m]\u001b[0m\u001b[0;34m\u001b[0m\u001b[0m\n\u001b[1;32m    365\u001b[0m         \u001b[0;32mfor\u001b[0m \u001b[0mo\u001b[0m \u001b[0;32min\u001b[0m \u001b[0mself\u001b[0m\u001b[0;34m.\u001b[0m\u001b[0mobject_names\u001b[0m\u001b[0;34m:\u001b[0m\u001b[0;34m\u001b[0m\u001b[0m\n\u001b[0;32m--> 366\u001b[0;31m             \u001b[0mtyps\u001b[0m\u001b[0;34m.\u001b[0m\u001b[0mappend\u001b[0m\u001b[0;34m(\u001b[0m\u001b[0mself\u001b[0m\u001b[0;34m.\u001b[0m\u001b[0mdata\u001b[0m\u001b[0;34m[\u001b[0m\u001b[0mo\u001b[0m\u001b[0;34m]\u001b[0m\u001b[0;34m.\u001b[0m\u001b[0mmeta\u001b[0m\u001b[0;34m[\u001b[0m\u001b[0;34m'type'\u001b[0m\u001b[0;34m]\u001b[0m\u001b[0;34m)\u001b[0m\u001b[0;34m\u001b[0m\u001b[0m\n\u001b[0m\u001b[1;32m    367\u001b[0m         \u001b[0mtab\u001b[0m\u001b[0;34m=\u001b[0m\u001b[0mTable\u001b[0m\u001b[0;34m(\u001b[0m\u001b[0mdata\u001b[0m\u001b[0;34m=\u001b[0m\u001b[0;34m[\u001b[0m\u001b[0mself\u001b[0m\u001b[0;34m.\u001b[0m\u001b[0mobject_names\u001b[0m\u001b[0;34m,\u001b[0m\u001b[0mtyps\u001b[0m\u001b[0;34m]\u001b[0m\u001b[0;34m,\u001b[0m\u001b[0mnames\u001b[0m\u001b[0;34m=\u001b[0m\u001b[0;34m[\u001b[0m\u001b[0;34m'Object'\u001b[0m\u001b[0;34m,\u001b[0m\u001b[0;34m'Type'\u001b[0m\u001b[0;34m]\u001b[0m\u001b[0;34m)\u001b[0m\u001b[0;34m\u001b[0m\u001b[0m\n\u001b[1;32m    368\u001b[0m         \u001b[0;32mreturn\u001b[0m \u001b[0mtab\u001b[0m\u001b[0;34m\u001b[0m\u001b[0m\n",
      "\u001b[0;31mKeyError\u001b[0m: 'type'"
     ]
    }
   ],
   "source": [
    "#For now we restrict ourselves to three supernova types: Ia (1), II (2) and Ibc (3)\n",
    "types=dat.get_types()\n",
    "types['Type'][np.floor(types['Type']/10)==2]=2\n",
    "types['Type'][np.floor(types['Type']/10)==3]=3"
   ]
  },
  {
   "cell_type": "code",
   "execution_count": 20,
   "metadata": {
    "collapsed": false
   },
   "outputs": [
    {
     "data": {
      "application/javascript": [
       "/* Put everything inside the global mpl namespace */\n",
       "window.mpl = {};\n",
       "\n",
       "mpl.get_websocket_type = function() {\n",
       "    if (typeof(WebSocket) !== 'undefined') {\n",
       "        return WebSocket;\n",
       "    } else if (typeof(MozWebSocket) !== 'undefined') {\n",
       "        return MozWebSocket;\n",
       "    } else {\n",
       "        alert('Your browser does not have WebSocket support.' +\n",
       "              'Please try Chrome, Safari or Firefox ≥ 6. ' +\n",
       "              'Firefox 4 and 5 are also supported but you ' +\n",
       "              'have to enable WebSockets in about:config.');\n",
       "    };\n",
       "}\n",
       "\n",
       "mpl.figure = function(figure_id, websocket, ondownload, parent_element) {\n",
       "    this.id = figure_id;\n",
       "\n",
       "    this.ws = websocket;\n",
       "\n",
       "    this.supports_binary = (this.ws.binaryType != undefined);\n",
       "\n",
       "    if (!this.supports_binary) {\n",
       "        var warnings = document.getElementById(\"mpl-warnings\");\n",
       "        if (warnings) {\n",
       "            warnings.style.display = 'block';\n",
       "            warnings.textContent = (\n",
       "                \"This browser does not support binary websocket messages. \" +\n",
       "                    \"Performance may be slow.\");\n",
       "        }\n",
       "    }\n",
       "\n",
       "    this.imageObj = new Image();\n",
       "\n",
       "    this.context = undefined;\n",
       "    this.message = undefined;\n",
       "    this.canvas = undefined;\n",
       "    this.rubberband_canvas = undefined;\n",
       "    this.rubberband_context = undefined;\n",
       "    this.format_dropdown = undefined;\n",
       "\n",
       "    this.image_mode = 'full';\n",
       "\n",
       "    this.root = $('<div/>');\n",
       "    this._root_extra_style(this.root)\n",
       "    this.root.attr('style', 'display: inline-block');\n",
       "\n",
       "    $(parent_element).append(this.root);\n",
       "\n",
       "    this._init_header(this);\n",
       "    this._init_canvas(this);\n",
       "    this._init_toolbar(this);\n",
       "\n",
       "    var fig = this;\n",
       "\n",
       "    this.waiting = false;\n",
       "\n",
       "    this.ws.onopen =  function () {\n",
       "            fig.send_message(\"supports_binary\", {value: fig.supports_binary});\n",
       "            fig.send_message(\"send_image_mode\", {});\n",
       "            fig.send_message(\"refresh\", {});\n",
       "        }\n",
       "\n",
       "    this.imageObj.onload = function() {\n",
       "            if (fig.image_mode == 'full') {\n",
       "                // Full images could contain transparency (where diff images\n",
       "                // almost always do), so we need to clear the canvas so that\n",
       "                // there is no ghosting.\n",
       "                fig.context.clearRect(0, 0, fig.canvas.width, fig.canvas.height);\n",
       "            }\n",
       "            fig.context.drawImage(fig.imageObj, 0, 0);\n",
       "        };\n",
       "\n",
       "    this.imageObj.onunload = function() {\n",
       "        this.ws.close();\n",
       "    }\n",
       "\n",
       "    this.ws.onmessage = this._make_on_message_function(this);\n",
       "\n",
       "    this.ondownload = ondownload;\n",
       "}\n",
       "\n",
       "mpl.figure.prototype._init_header = function() {\n",
       "    var titlebar = $(\n",
       "        '<div class=\"ui-dialog-titlebar ui-widget-header ui-corner-all ' +\n",
       "        'ui-helper-clearfix\"/>');\n",
       "    var titletext = $(\n",
       "        '<div class=\"ui-dialog-title\" style=\"width: 100%; ' +\n",
       "        'text-align: center; padding: 3px;\"/>');\n",
       "    titlebar.append(titletext)\n",
       "    this.root.append(titlebar);\n",
       "    this.header = titletext[0];\n",
       "}\n",
       "\n",
       "\n",
       "\n",
       "mpl.figure.prototype._canvas_extra_style = function(canvas_div) {\n",
       "\n",
       "}\n",
       "\n",
       "\n",
       "mpl.figure.prototype._root_extra_style = function(canvas_div) {\n",
       "\n",
       "}\n",
       "\n",
       "mpl.figure.prototype._init_canvas = function() {\n",
       "    var fig = this;\n",
       "\n",
       "    var canvas_div = $('<div/>');\n",
       "\n",
       "    canvas_div.attr('style', 'position: relative; clear: both; outline: 0');\n",
       "\n",
       "    function canvas_keyboard_event(event) {\n",
       "        return fig.key_event(event, event['data']);\n",
       "    }\n",
       "\n",
       "    canvas_div.keydown('key_press', canvas_keyboard_event);\n",
       "    canvas_div.keyup('key_release', canvas_keyboard_event);\n",
       "    this.canvas_div = canvas_div\n",
       "    this._canvas_extra_style(canvas_div)\n",
       "    this.root.append(canvas_div);\n",
       "\n",
       "    var canvas = $('<canvas/>');\n",
       "    canvas.addClass('mpl-canvas');\n",
       "    canvas.attr('style', \"left: 0; top: 0; z-index: 0; outline: 0\")\n",
       "\n",
       "    this.canvas = canvas[0];\n",
       "    this.context = canvas[0].getContext(\"2d\");\n",
       "\n",
       "    var rubberband = $('<canvas/>');\n",
       "    rubberband.attr('style', \"position: absolute; left: 0; top: 0; z-index: 1;\")\n",
       "\n",
       "    var pass_mouse_events = true;\n",
       "\n",
       "    canvas_div.resizable({\n",
       "        start: function(event, ui) {\n",
       "            pass_mouse_events = false;\n",
       "        },\n",
       "        resize: function(event, ui) {\n",
       "            fig.request_resize(ui.size.width, ui.size.height);\n",
       "        },\n",
       "        stop: function(event, ui) {\n",
       "            pass_mouse_events = true;\n",
       "            fig.request_resize(ui.size.width, ui.size.height);\n",
       "        },\n",
       "    });\n",
       "\n",
       "    function mouse_event_fn(event) {\n",
       "        if (pass_mouse_events)\n",
       "            return fig.mouse_event(event, event['data']);\n",
       "    }\n",
       "\n",
       "    rubberband.mousedown('button_press', mouse_event_fn);\n",
       "    rubberband.mouseup('button_release', mouse_event_fn);\n",
       "    // Throttle sequential mouse events to 1 every 20ms.\n",
       "    rubberband.mousemove('motion_notify', mouse_event_fn);\n",
       "\n",
       "    rubberband.mouseenter('figure_enter', mouse_event_fn);\n",
       "    rubberband.mouseleave('figure_leave', mouse_event_fn);\n",
       "\n",
       "    canvas_div.on(\"wheel\", function (event) {\n",
       "        event = event.originalEvent;\n",
       "        event['data'] = 'scroll'\n",
       "        if (event.deltaY < 0) {\n",
       "            event.step = 1;\n",
       "        } else {\n",
       "            event.step = -1;\n",
       "        }\n",
       "        mouse_event_fn(event);\n",
       "    });\n",
       "\n",
       "    canvas_div.append(canvas);\n",
       "    canvas_div.append(rubberband);\n",
       "\n",
       "    this.rubberband = rubberband;\n",
       "    this.rubberband_canvas = rubberband[0];\n",
       "    this.rubberband_context = rubberband[0].getContext(\"2d\");\n",
       "    this.rubberband_context.strokeStyle = \"#000000\";\n",
       "\n",
       "    this._resize_canvas = function(width, height) {\n",
       "        // Keep the size of the canvas, canvas container, and rubber band\n",
       "        // canvas in synch.\n",
       "        canvas_div.css('width', width)\n",
       "        canvas_div.css('height', height)\n",
       "\n",
       "        canvas.attr('width', width);\n",
       "        canvas.attr('height', height);\n",
       "\n",
       "        rubberband.attr('width', width);\n",
       "        rubberband.attr('height', height);\n",
       "    }\n",
       "\n",
       "    // Set the figure to an initial 600x600px, this will subsequently be updated\n",
       "    // upon first draw.\n",
       "    this._resize_canvas(600, 600);\n",
       "\n",
       "    // Disable right mouse context menu.\n",
       "    $(this.rubberband_canvas).bind(\"contextmenu\",function(e){\n",
       "        return false;\n",
       "    });\n",
       "\n",
       "    function set_focus () {\n",
       "        canvas.focus();\n",
       "        canvas_div.focus();\n",
       "    }\n",
       "\n",
       "    window.setTimeout(set_focus, 100);\n",
       "}\n",
       "\n",
       "mpl.figure.prototype._init_toolbar = function() {\n",
       "    var fig = this;\n",
       "\n",
       "    var nav_element = $('<div/>')\n",
       "    nav_element.attr('style', 'width: 100%');\n",
       "    this.root.append(nav_element);\n",
       "\n",
       "    // Define a callback function for later on.\n",
       "    function toolbar_event(event) {\n",
       "        return fig.toolbar_button_onclick(event['data']);\n",
       "    }\n",
       "    function toolbar_mouse_event(event) {\n",
       "        return fig.toolbar_button_onmouseover(event['data']);\n",
       "    }\n",
       "\n",
       "    for(var toolbar_ind in mpl.toolbar_items) {\n",
       "        var name = mpl.toolbar_items[toolbar_ind][0];\n",
       "        var tooltip = mpl.toolbar_items[toolbar_ind][1];\n",
       "        var image = mpl.toolbar_items[toolbar_ind][2];\n",
       "        var method_name = mpl.toolbar_items[toolbar_ind][3];\n",
       "\n",
       "        if (!name) {\n",
       "            // put a spacer in here.\n",
       "            continue;\n",
       "        }\n",
       "        var button = $('<button/>');\n",
       "        button.addClass('ui-button ui-widget ui-state-default ui-corner-all ' +\n",
       "                        'ui-button-icon-only');\n",
       "        button.attr('role', 'button');\n",
       "        button.attr('aria-disabled', 'false');\n",
       "        button.click(method_name, toolbar_event);\n",
       "        button.mouseover(tooltip, toolbar_mouse_event);\n",
       "\n",
       "        var icon_img = $('<span/>');\n",
       "        icon_img.addClass('ui-button-icon-primary ui-icon');\n",
       "        icon_img.addClass(image);\n",
       "        icon_img.addClass('ui-corner-all');\n",
       "\n",
       "        var tooltip_span = $('<span/>');\n",
       "        tooltip_span.addClass('ui-button-text');\n",
       "        tooltip_span.html(tooltip);\n",
       "\n",
       "        button.append(icon_img);\n",
       "        button.append(tooltip_span);\n",
       "\n",
       "        nav_element.append(button);\n",
       "    }\n",
       "\n",
       "    var fmt_picker_span = $('<span/>');\n",
       "\n",
       "    var fmt_picker = $('<select/>');\n",
       "    fmt_picker.addClass('mpl-toolbar-option ui-widget ui-widget-content');\n",
       "    fmt_picker_span.append(fmt_picker);\n",
       "    nav_element.append(fmt_picker_span);\n",
       "    this.format_dropdown = fmt_picker[0];\n",
       "\n",
       "    for (var ind in mpl.extensions) {\n",
       "        var fmt = mpl.extensions[ind];\n",
       "        var option = $(\n",
       "            '<option/>', {selected: fmt === mpl.default_extension}).html(fmt);\n",
       "        fmt_picker.append(option)\n",
       "    }\n",
       "\n",
       "    // Add hover states to the ui-buttons\n",
       "    $( \".ui-button\" ).hover(\n",
       "        function() { $(this).addClass(\"ui-state-hover\");},\n",
       "        function() { $(this).removeClass(\"ui-state-hover\");}\n",
       "    );\n",
       "\n",
       "    var status_bar = $('<span class=\"mpl-message\"/>');\n",
       "    nav_element.append(status_bar);\n",
       "    this.message = status_bar[0];\n",
       "}\n",
       "\n",
       "mpl.figure.prototype.request_resize = function(x_pixels, y_pixels) {\n",
       "    // Request matplotlib to resize the figure. Matplotlib will then trigger a resize in the client,\n",
       "    // which will in turn request a refresh of the image.\n",
       "    this.send_message('resize', {'width': x_pixels, 'height': y_pixels});\n",
       "}\n",
       "\n",
       "mpl.figure.prototype.send_message = function(type, properties) {\n",
       "    properties['type'] = type;\n",
       "    properties['figure_id'] = this.id;\n",
       "    this.ws.send(JSON.stringify(properties));\n",
       "}\n",
       "\n",
       "mpl.figure.prototype.send_draw_message = function() {\n",
       "    if (!this.waiting) {\n",
       "        this.waiting = true;\n",
       "        this.ws.send(JSON.stringify({type: \"draw\", figure_id: this.id}));\n",
       "    }\n",
       "}\n",
       "\n",
       "\n",
       "mpl.figure.prototype.handle_save = function(fig, msg) {\n",
       "    var format_dropdown = fig.format_dropdown;\n",
       "    var format = format_dropdown.options[format_dropdown.selectedIndex].value;\n",
       "    fig.ondownload(fig, format);\n",
       "}\n",
       "\n",
       "\n",
       "mpl.figure.prototype.handle_resize = function(fig, msg) {\n",
       "    var size = msg['size'];\n",
       "    if (size[0] != fig.canvas.width || size[1] != fig.canvas.height) {\n",
       "        fig._resize_canvas(size[0], size[1]);\n",
       "        fig.send_message(\"refresh\", {});\n",
       "    };\n",
       "}\n",
       "\n",
       "mpl.figure.prototype.handle_rubberband = function(fig, msg) {\n",
       "    var x0 = msg['x0'];\n",
       "    var y0 = fig.canvas.height - msg['y0'];\n",
       "    var x1 = msg['x1'];\n",
       "    var y1 = fig.canvas.height - msg['y1'];\n",
       "    x0 = Math.floor(x0) + 0.5;\n",
       "    y0 = Math.floor(y0) + 0.5;\n",
       "    x1 = Math.floor(x1) + 0.5;\n",
       "    y1 = Math.floor(y1) + 0.5;\n",
       "    var min_x = Math.min(x0, x1);\n",
       "    var min_y = Math.min(y0, y1);\n",
       "    var width = Math.abs(x1 - x0);\n",
       "    var height = Math.abs(y1 - y0);\n",
       "\n",
       "    fig.rubberband_context.clearRect(\n",
       "        0, 0, fig.canvas.width, fig.canvas.height);\n",
       "\n",
       "    fig.rubberband_context.strokeRect(min_x, min_y, width, height);\n",
       "}\n",
       "\n",
       "mpl.figure.prototype.handle_figure_label = function(fig, msg) {\n",
       "    // Updates the figure title.\n",
       "    fig.header.textContent = msg['label'];\n",
       "}\n",
       "\n",
       "mpl.figure.prototype.handle_cursor = function(fig, msg) {\n",
       "    var cursor = msg['cursor'];\n",
       "    switch(cursor)\n",
       "    {\n",
       "    case 0:\n",
       "        cursor = 'pointer';\n",
       "        break;\n",
       "    case 1:\n",
       "        cursor = 'default';\n",
       "        break;\n",
       "    case 2:\n",
       "        cursor = 'crosshair';\n",
       "        break;\n",
       "    case 3:\n",
       "        cursor = 'move';\n",
       "        break;\n",
       "    }\n",
       "    fig.rubberband_canvas.style.cursor = cursor;\n",
       "}\n",
       "\n",
       "mpl.figure.prototype.handle_message = function(fig, msg) {\n",
       "    fig.message.textContent = msg['message'];\n",
       "}\n",
       "\n",
       "mpl.figure.prototype.handle_draw = function(fig, msg) {\n",
       "    // Request the server to send over a new figure.\n",
       "    fig.send_draw_message();\n",
       "}\n",
       "\n",
       "mpl.figure.prototype.handle_image_mode = function(fig, msg) {\n",
       "    fig.image_mode = msg['mode'];\n",
       "}\n",
       "\n",
       "mpl.figure.prototype.updated_canvas_event = function() {\n",
       "    // Called whenever the canvas gets updated.\n",
       "    this.send_message(\"ack\", {});\n",
       "}\n",
       "\n",
       "// A function to construct a web socket function for onmessage handling.\n",
       "// Called in the figure constructor.\n",
       "mpl.figure.prototype._make_on_message_function = function(fig) {\n",
       "    return function socket_on_message(evt) {\n",
       "        if (evt.data instanceof Blob) {\n",
       "            /* FIXME: We get \"Resource interpreted as Image but\n",
       "             * transferred with MIME type text/plain:\" errors on\n",
       "             * Chrome.  But how to set the MIME type?  It doesn't seem\n",
       "             * to be part of the websocket stream */\n",
       "            evt.data.type = \"image/png\";\n",
       "\n",
       "            /* Free the memory for the previous frames */\n",
       "            if (fig.imageObj.src) {\n",
       "                (window.URL || window.webkitURL).revokeObjectURL(\n",
       "                    fig.imageObj.src);\n",
       "            }\n",
       "\n",
       "            fig.imageObj.src = (window.URL || window.webkitURL).createObjectURL(\n",
       "                evt.data);\n",
       "            fig.updated_canvas_event();\n",
       "            fig.waiting = false;\n",
       "            return;\n",
       "        }\n",
       "        else if (typeof evt.data === 'string' && evt.data.slice(0, 21) == \"data:image/png;base64\") {\n",
       "            fig.imageObj.src = evt.data;\n",
       "            fig.updated_canvas_event();\n",
       "            fig.waiting = false;\n",
       "            return;\n",
       "        }\n",
       "\n",
       "        var msg = JSON.parse(evt.data);\n",
       "        var msg_type = msg['type'];\n",
       "\n",
       "        // Call the  \"handle_{type}\" callback, which takes\n",
       "        // the figure and JSON message as its only arguments.\n",
       "        try {\n",
       "            var callback = fig[\"handle_\" + msg_type];\n",
       "        } catch (e) {\n",
       "            console.log(\"No handler for the '\" + msg_type + \"' message type: \", msg);\n",
       "            return;\n",
       "        }\n",
       "\n",
       "        if (callback) {\n",
       "            try {\n",
       "                // console.log(\"Handling '\" + msg_type + \"' message: \", msg);\n",
       "                callback(fig, msg);\n",
       "            } catch (e) {\n",
       "                console.log(\"Exception inside the 'handler_\" + msg_type + \"' callback:\", e, e.stack, msg);\n",
       "            }\n",
       "        }\n",
       "    };\n",
       "}\n",
       "\n",
       "// from http://stackoverflow.com/questions/1114465/getting-mouse-location-in-canvas\n",
       "mpl.findpos = function(e) {\n",
       "    //this section is from http://www.quirksmode.org/js/events_properties.html\n",
       "    var targ;\n",
       "    if (!e)\n",
       "        e = window.event;\n",
       "    if (e.target)\n",
       "        targ = e.target;\n",
       "    else if (e.srcElement)\n",
       "        targ = e.srcElement;\n",
       "    if (targ.nodeType == 3) // defeat Safari bug\n",
       "        targ = targ.parentNode;\n",
       "\n",
       "    // jQuery normalizes the pageX and pageY\n",
       "    // pageX,Y are the mouse positions relative to the document\n",
       "    // offset() returns the position of the element relative to the document\n",
       "    var x = e.pageX - $(targ).offset().left;\n",
       "    var y = e.pageY - $(targ).offset().top;\n",
       "\n",
       "    return {\"x\": x, \"y\": y};\n",
       "};\n",
       "\n",
       "/*\n",
       " * return a copy of an object with only non-object keys\n",
       " * we need this to avoid circular references\n",
       " * http://stackoverflow.com/a/24161582/3208463\n",
       " */\n",
       "function simpleKeys (original) {\n",
       "  return Object.keys(original).reduce(function (obj, key) {\n",
       "    if (typeof original[key] !== 'object')\n",
       "        obj[key] = original[key]\n",
       "    return obj;\n",
       "  }, {});\n",
       "}\n",
       "\n",
       "mpl.figure.prototype.mouse_event = function(event, name) {\n",
       "    var canvas_pos = mpl.findpos(event)\n",
       "\n",
       "    if (name === 'button_press')\n",
       "    {\n",
       "        this.canvas.focus();\n",
       "        this.canvas_div.focus();\n",
       "    }\n",
       "\n",
       "    var x = canvas_pos.x;\n",
       "    var y = canvas_pos.y;\n",
       "\n",
       "    this.send_message(name, {x: x, y: y, button: event.button,\n",
       "                             step: event.step,\n",
       "                             guiEvent: simpleKeys(event)});\n",
       "\n",
       "    /* This prevents the web browser from automatically changing to\n",
       "     * the text insertion cursor when the button is pressed.  We want\n",
       "     * to control all of the cursor setting manually through the\n",
       "     * 'cursor' event from matplotlib */\n",
       "    event.preventDefault();\n",
       "    return false;\n",
       "}\n",
       "\n",
       "mpl.figure.prototype._key_event_extra = function(event, name) {\n",
       "    // Handle any extra behaviour associated with a key event\n",
       "}\n",
       "\n",
       "mpl.figure.prototype.key_event = function(event, name) {\n",
       "\n",
       "    // Prevent repeat events\n",
       "    if (name == 'key_press')\n",
       "    {\n",
       "        if (event.which === this._key)\n",
       "            return;\n",
       "        else\n",
       "            this._key = event.which;\n",
       "    }\n",
       "    if (name == 'key_release')\n",
       "        this._key = null;\n",
       "\n",
       "    var value = '';\n",
       "    if (event.ctrlKey && event.which != 17)\n",
       "        value += \"ctrl+\";\n",
       "    if (event.altKey && event.which != 18)\n",
       "        value += \"alt+\";\n",
       "    if (event.shiftKey && event.which != 16)\n",
       "        value += \"shift+\";\n",
       "\n",
       "    value += 'k';\n",
       "    value += event.which.toString();\n",
       "\n",
       "    this._key_event_extra(event, name);\n",
       "\n",
       "    this.send_message(name, {key: value,\n",
       "                             guiEvent: simpleKeys(event)});\n",
       "    return false;\n",
       "}\n",
       "\n",
       "mpl.figure.prototype.toolbar_button_onclick = function(name) {\n",
       "    if (name == 'download') {\n",
       "        this.handle_save(this, null);\n",
       "    } else {\n",
       "        this.send_message(\"toolbar_button\", {name: name});\n",
       "    }\n",
       "};\n",
       "\n",
       "mpl.figure.prototype.toolbar_button_onmouseover = function(tooltip) {\n",
       "    this.message.textContent = tooltip;\n",
       "};\n",
       "mpl.toolbar_items = [[\"Home\", \"Reset original view\", \"fa fa-home icon-home\", \"home\"], [\"Back\", \"Back to  previous view\", \"fa fa-arrow-left icon-arrow-left\", \"back\"], [\"Forward\", \"Forward to next view\", \"fa fa-arrow-right icon-arrow-right\", \"forward\"], [\"\", \"\", \"\", \"\"], [\"Pan\", \"Pan axes with left mouse, zoom with right\", \"fa fa-arrows icon-move\", \"pan\"], [\"Zoom\", \"Zoom to rectangle\", \"fa fa-square-o icon-check-empty\", \"zoom\"], [\"\", \"\", \"\", \"\"], [\"Download\", \"Download plot\", \"fa fa-floppy-o icon-save\", \"download\"]];\n",
       "\n",
       "mpl.extensions = [\"eps\", \"jpeg\", \"pdf\", \"png\", \"ps\", \"raw\", \"svg\", \"tif\"];\n",
       "\n",
       "mpl.default_extension = \"png\";var comm_websocket_adapter = function(comm) {\n",
       "    // Create a \"websocket\"-like object which calls the given IPython comm\n",
       "    // object with the appropriate methods. Currently this is a non binary\n",
       "    // socket, so there is still some room for performance tuning.\n",
       "    var ws = {};\n",
       "\n",
       "    ws.close = function() {\n",
       "        comm.close()\n",
       "    };\n",
       "    ws.send = function(m) {\n",
       "        //console.log('sending', m);\n",
       "        comm.send(m);\n",
       "    };\n",
       "    // Register the callback with on_msg.\n",
       "    comm.on_msg(function(msg) {\n",
       "        //console.log('receiving', msg['content']['data'], msg);\n",
       "        // Pass the mpl event to the overriden (by mpl) onmessage function.\n",
       "        ws.onmessage(msg['content']['data'])\n",
       "    });\n",
       "    return ws;\n",
       "}\n",
       "\n",
       "mpl.mpl_figure_comm = function(comm, msg) {\n",
       "    // This is the function which gets called when the mpl process\n",
       "    // starts-up an IPython Comm through the \"matplotlib\" channel.\n",
       "\n",
       "    var id = msg.content.data.id;\n",
       "    // Get hold of the div created by the display call when the Comm\n",
       "    // socket was opened in Python.\n",
       "    var element = $(\"#\" + id);\n",
       "    var ws_proxy = comm_websocket_adapter(comm)\n",
       "\n",
       "    function ondownload(figure, format) {\n",
       "        window.open(figure.imageObj.src);\n",
       "    }\n",
       "\n",
       "    var fig = new mpl.figure(id, ws_proxy,\n",
       "                           ondownload,\n",
       "                           element.get(0));\n",
       "\n",
       "    // Call onopen now - mpl needs it, as it is assuming we've passed it a real\n",
       "    // web socket which is closed, not our websocket->open comm proxy.\n",
       "    ws_proxy.onopen();\n",
       "\n",
       "    fig.parent_element = element.get(0);\n",
       "    fig.cell_info = mpl.find_output_cell(\"<div id='\" + id + \"'></div>\");\n",
       "    if (!fig.cell_info) {\n",
       "        console.error(\"Failed to find cell for figure\", id, fig);\n",
       "        return;\n",
       "    }\n",
       "\n",
       "    var output_index = fig.cell_info[2]\n",
       "    var cell = fig.cell_info[0];\n",
       "\n",
       "};\n",
       "\n",
       "mpl.figure.prototype.handle_close = function(fig, msg) {\n",
       "    fig.root.unbind('remove')\n",
       "\n",
       "    // Update the output cell to use the data from the current canvas.\n",
       "    fig.push_to_output();\n",
       "    var dataURL = fig.canvas.toDataURL();\n",
       "    // Re-enable the keyboard manager in IPython - without this line, in FF,\n",
       "    // the notebook keyboard shortcuts fail.\n",
       "    IPython.keyboard_manager.enable()\n",
       "    $(fig.parent_element).html('<img src=\"' + dataURL + '\">');\n",
       "    fig.close_ws(fig, msg);\n",
       "}\n",
       "\n",
       "mpl.figure.prototype.close_ws = function(fig, msg){\n",
       "    fig.send_message('closing', msg);\n",
       "    // fig.ws.close()\n",
       "}\n",
       "\n",
       "mpl.figure.prototype.push_to_output = function(remove_interactive) {\n",
       "    // Turn the data on the canvas into data in the output cell.\n",
       "    var dataURL = this.canvas.toDataURL();\n",
       "    this.cell_info[1]['text/html'] = '<img src=\"' + dataURL + '\">';\n",
       "}\n",
       "\n",
       "mpl.figure.prototype.updated_canvas_event = function() {\n",
       "    // Tell IPython that the notebook contents must change.\n",
       "    IPython.notebook.set_dirty(true);\n",
       "    this.send_message(\"ack\", {});\n",
       "    var fig = this;\n",
       "    // Wait a second, then push the new image to the DOM so\n",
       "    // that it is saved nicely (might be nice to debounce this).\n",
       "    setTimeout(function () { fig.push_to_output() }, 1000);\n",
       "}\n",
       "\n",
       "mpl.figure.prototype._init_toolbar = function() {\n",
       "    var fig = this;\n",
       "\n",
       "    var nav_element = $('<div/>')\n",
       "    nav_element.attr('style', 'width: 100%');\n",
       "    this.root.append(nav_element);\n",
       "\n",
       "    // Define a callback function for later on.\n",
       "    function toolbar_event(event) {\n",
       "        return fig.toolbar_button_onclick(event['data']);\n",
       "    }\n",
       "    function toolbar_mouse_event(event) {\n",
       "        return fig.toolbar_button_onmouseover(event['data']);\n",
       "    }\n",
       "\n",
       "    for(var toolbar_ind in mpl.toolbar_items){\n",
       "        var name = mpl.toolbar_items[toolbar_ind][0];\n",
       "        var tooltip = mpl.toolbar_items[toolbar_ind][1];\n",
       "        var image = mpl.toolbar_items[toolbar_ind][2];\n",
       "        var method_name = mpl.toolbar_items[toolbar_ind][3];\n",
       "\n",
       "        if (!name) { continue; };\n",
       "\n",
       "        var button = $('<button class=\"btn btn-default\" href=\"#\" title=\"' + name + '\"><i class=\"fa ' + image + ' fa-lg\"></i></button>');\n",
       "        button.click(method_name, toolbar_event);\n",
       "        button.mouseover(tooltip, toolbar_mouse_event);\n",
       "        nav_element.append(button);\n",
       "    }\n",
       "\n",
       "    // Add the status bar.\n",
       "    var status_bar = $('<span class=\"mpl-message\" style=\"text-align:right; float: right;\"/>');\n",
       "    nav_element.append(status_bar);\n",
       "    this.message = status_bar[0];\n",
       "\n",
       "    // Add the close button to the window.\n",
       "    var buttongrp = $('<div class=\"btn-group inline pull-right\"></div>');\n",
       "    var button = $('<button class=\"btn btn-mini btn-primary\" href=\"#\" title=\"Stop Interaction\"><i class=\"fa fa-power-off icon-remove icon-large\"></i></button>');\n",
       "    button.click(function (evt) { fig.handle_close(fig, {}); } );\n",
       "    button.mouseover('Stop Interaction', toolbar_mouse_event);\n",
       "    buttongrp.append(button);\n",
       "    var titlebar = this.root.find($('.ui-dialog-titlebar'));\n",
       "    titlebar.prepend(buttongrp);\n",
       "}\n",
       "\n",
       "mpl.figure.prototype._root_extra_style = function(el){\n",
       "    var fig = this\n",
       "    el.on(\"remove\", function(){\n",
       "\tfig.close_ws(fig, {});\n",
       "    });\n",
       "}\n",
       "\n",
       "mpl.figure.prototype._canvas_extra_style = function(el){\n",
       "    // this is important to make the div 'focusable\n",
       "    el.attr('tabindex', 0)\n",
       "    // reach out to IPython and tell the keyboard manager to turn it's self\n",
       "    // off when our div gets focus\n",
       "\n",
       "    // location in version 3\n",
       "    if (IPython.notebook.keyboard_manager) {\n",
       "        IPython.notebook.keyboard_manager.register_events(el);\n",
       "    }\n",
       "    else {\n",
       "        // location in version 2\n",
       "        IPython.keyboard_manager.register_events(el);\n",
       "    }\n",
       "\n",
       "}\n",
       "\n",
       "mpl.figure.prototype._key_event_extra = function(event, name) {\n",
       "    var manager = IPython.notebook.keyboard_manager;\n",
       "    if (!manager)\n",
       "        manager = IPython.keyboard_manager;\n",
       "\n",
       "    // Check for shift+enter\n",
       "    if (event.shiftKey && event.which == 13) {\n",
       "        this.canvas_div.blur();\n",
       "        event.shiftKey = false;\n",
       "        // Send a \"J\" for go to next cell\n",
       "        event.which = 74;\n",
       "        event.keyCode = 74;\n",
       "        manager.command_mode();\n",
       "        manager.handle_keydown(event);\n",
       "    }\n",
       "}\n",
       "\n",
       "mpl.figure.prototype.handle_save = function(fig, msg) {\n",
       "    fig.ondownload(fig, null);\n",
       "}\n",
       "\n",
       "\n",
       "mpl.find_output_cell = function(html_output) {\n",
       "    // Return the cell and output element which can be found *uniquely* in the notebook.\n",
       "    // Note - this is a bit hacky, but it is done because the \"notebook_saving.Notebook\"\n",
       "    // IPython event is triggered only after the cells have been serialised, which for\n",
       "    // our purposes (turning an active figure into a static one), is too late.\n",
       "    var cells = IPython.notebook.get_cells();\n",
       "    var ncells = cells.length;\n",
       "    for (var i=0; i<ncells; i++) {\n",
       "        var cell = cells[i];\n",
       "        if (cell.cell_type === 'code'){\n",
       "            for (var j=0; j<cell.output_area.outputs.length; j++) {\n",
       "                var data = cell.output_area.outputs[j];\n",
       "                if (data.data) {\n",
       "                    // IPython >= 3 moved mimebundle to data attribute of output\n",
       "                    data = data.data;\n",
       "                }\n",
       "                if (data['text/html'] == html_output) {\n",
       "                    return [cell, data, j];\n",
       "                }\n",
       "            }\n",
       "        }\n",
       "    }\n",
       "}\n",
       "\n",
       "// Register the function which deals with the matplotlib target/channel.\n",
       "// The kernel may be null if the page has been refreshed.\n",
       "if (IPython.notebook.kernel != null) {\n",
       "    IPython.notebook.kernel.comm_manager.register_target('matplotlib', mpl.mpl_figure_comm);\n",
       "}\n"
      ],
      "text/plain": [
       "<IPython.core.display.Javascript object>"
      ]
     },
     "metadata": {},
     "output_type": "display_data"
    },
    {
     "data": {
      "text/html": [
       "<img src=\"data:image/png;base64,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\">"
      ],
      "text/plain": [
       "<IPython.core.display.HTML object>"
      ]
     },
     "metadata": {},
     "output_type": "display_data"
    },
    {
     "data": {
      "text/html": [
       "&lt;Table length=103&gt;\n",
       "<table id=\"table4553219664\" class=\"table-striped table-bordered table-condensed\">\n",
       "<thead><tr><th>mjd</th><th>filter</th><th>FLUXCAL</th><th>FLUXCALERR</th><th>zp</th><th>zpsys</th></tr></thead>\n",
       "<thead><tr><th>float64</th><th>str4</th><th>float64</th><th>float64</th><th>float64</th><th>str2</th></tr></thead>\n",
       "<tr><td>0.0</td><td>desg</td><td>9.78090900677</td><td>10.48</td><td>27.5</td><td>ab</td></tr>\n",
       "<tr><td>0.0160000000033</td><td>desr</td><td>-23.7501883381</td><td>7.845</td><td>27.5</td><td>ab</td></tr>\n",
       "<tr><td>0.0320000000065</td><td>desi</td><td>-8.81621591792</td><td>9.314</td><td>27.5</td><td>ab</td></tr>\n",
       "<tr><td>0.977000000006</td><td>desz</td><td>-6.32513862848</td><td>5.328</td><td>27.5</td><td>ab</td></tr>\n",
       "<tr><td>1.985</td><td>desg</td><td>1.02186321638</td><td>3.205</td><td>27.5</td><td>ab</td></tr>\n",
       "<tr><td>2.0</td><td>desr</td><td>-0.146951724023</td><td>2.425</td><td>27.5</td><td>ab</td></tr>\n",
       "<tr><td>2.016</td><td>desi</td><td>-3.60718123542</td><td>4.31</td><td>27.5</td><td>ab</td></tr>\n",
       "<tr><td>9.957</td><td>desz</td><td>-18.6402472646</td><td>27.32</td><td>27.5</td><td>ab</td></tr>\n",
       "<tr><td>10.106</td><td>desg</td><td>-5.48941104724</td><td>25.57</td><td>27.5</td><td>ab</td></tr>\n",
       "<tr><td>10.121</td><td>desr</td><td>-3.33769510665</td><td>4.152</td><td>27.5</td><td>ab</td></tr>\n",
       "<tr><td>...</td><td>...</td><td>...</td><td>...</td><td>...</td><td>...</td></tr>\n",
       "<tr><td>113.957</td><td>desi</td><td>5.43064885315</td><td>5.61</td><td>27.5</td><td>ab</td></tr>\n",
       "<tr><td>113.965</td><td>desz</td><td>9.9481775093</td><td>5.166</td><td>27.5</td><td>ab</td></tr>\n",
       "<tr><td>125.817</td><td>desg</td><td>0.812540555657</td><td>2.48</td><td>27.5</td><td>ab</td></tr>\n",
       "<tr><td>125.821</td><td>desr</td><td>4.38980593226</td><td>1.659</td><td>27.5</td><td>ab</td></tr>\n",
       "<tr><td>125.836</td><td>desi</td><td>5.85629463488</td><td>2.513</td><td>27.5</td><td>ab</td></tr>\n",
       "<tr><td>125.852</td><td>desz</td><td>6.94374986054</td><td>3.94</td><td>27.5</td><td>ab</td></tr>\n",
       "<tr><td>133.821</td><td>desg</td><td>-1.90459082556</td><td>7.568</td><td>27.5</td><td>ab</td></tr>\n",
       "<tr><td>133.832</td><td>desr</td><td>4.47232145533</td><td>2.963</td><td>27.5</td><td>ab</td></tr>\n",
       "<tr><td>133.856</td><td>desi</td><td>-7.01088874379</td><td>5.022</td><td>27.5</td><td>ab</td></tr>\n",
       "<tr><td>133.879</td><td>desz</td><td>24.612439513</td><td>5.441</td><td>27.5</td><td>ab</td></tr>\n",
       "</table>"
      ],
      "text/plain": [
       "<Table length=103>\n",
       "      mjd       filter     FLUXCAL     FLUXCALERR    zp   zpsys\n",
       "    float64      str4      float64      float64   float64  str2\n",
       "--------------- ------ --------------- ---------- ------- -----\n",
       "            0.0   desg   9.78090900677      10.48    27.5    ab\n",
       "0.0160000000033   desr  -23.7501883381      7.845    27.5    ab\n",
       "0.0320000000065   desi  -8.81621591792      9.314    27.5    ab\n",
       " 0.977000000006   desz  -6.32513862848      5.328    27.5    ab\n",
       "          1.985   desg   1.02186321638      3.205    27.5    ab\n",
       "            2.0   desr -0.146951724023      2.425    27.5    ab\n",
       "          2.016   desi  -3.60718123542       4.31    27.5    ab\n",
       "          9.957   desz  -18.6402472646      27.32    27.5    ab\n",
       "         10.106   desg  -5.48941104724      25.57    27.5    ab\n",
       "         10.121   desr  -3.33769510665      4.152    27.5    ab\n",
       "            ...    ...             ...        ...     ...   ...\n",
       "        113.957   desi   5.43064885315       5.61    27.5    ab\n",
       "        113.965   desz    9.9481775093      5.166    27.5    ab\n",
       "        125.817   desg  0.812540555657       2.48    27.5    ab\n",
       "        125.821   desr   4.38980593226      1.659    27.5    ab\n",
       "        125.836   desi   5.85629463488      2.513    27.5    ab\n",
       "        125.852   desz   6.94374986054       3.94    27.5    ab\n",
       "        133.821   desg  -1.90459082556      7.568    27.5    ab\n",
       "        133.832   desr   4.47232145533      2.963    27.5    ab\n",
       "        133.856   desi  -7.01088874379      5.022    27.5    ab\n",
       "        133.879   desz    24.612439513      5.441    27.5    ab"
      ]
     },
     "execution_count": 20,
     "metadata": {},
     "output_type": "execute_result"
    }
   ],
   "source": [
    "dat.plot_all()\n",
    "dat.data[dat.object_names[0]]"
   ]
  },
  {
   "cell_type": "code",
   "execution_count": 23,
   "metadata": {
    "collapsed": false
   },
   "outputs": [
    {
     "data": {
      "text/plain": [
       "array(['0', '1', '2', '3', '4', '5', '6', '7', '8', '9', '10', '11', '12',\n",
       "       '13', '14'], \n",
       "      dtype='|S2')"
      ]
     },
     "execution_count": 23,
     "metadata": {},
     "output_type": "execute_result"
    }
   ],
   "source": [
    "dat.get_object_names()"
   ]
  },
  {
   "cell_type": "code",
   "execution_count": 26,
   "metadata": {
    "collapsed": true
   },
   "outputs": [],
   "source": [
    "mod1Feats=snfeatures.ParametricFeatures('karpenka',sampler='leastsq')"
   ]
  },
  {
   "cell_type": "code",
   "execution_count": 28,
   "metadata": {
    "collapsed": false
   },
   "outputs": [
    {
     "name": "stdout",
     "output_type": "stream",
     "text": [
      "15 objects fitted\n",
      "Time taken is 3.59 seconds\n"
     ]
    }
   ],
   "source": [
    "%%capture --no-stdout\n",
    "if read_from_file:\n",
    "    mod1_features=Table.read('%s_karpenka.dat' %run_name, format='ascii')\n",
    "    blah=mod1_features['Object'].astype(str)\n",
    "    mod1_features.replace_column('Object', blah)\n",
    "else:\n",
    "    mod1_features=mod1Feats.extract_features(dat,nprocesses=6,chain_directory=out_int)\n",
    "    mod1_features.write('%s_karpenka.dat' %run_name, format='ascii')"
   ]
  },
  {
   "cell_type": "code",
   "execution_count": 34,
   "metadata": {
    "collapsed": false
   },
   "outputs": [
    {
     "name": "stdout",
     "output_type": "stream",
     "text": [
      "Object desg-logA desg-logB desg-t0 ...   desz-t1   desz-T_rise desz-T_fall\n",
      "------ --------- --------- ------- ... ----------- ----------- -----------\n",
      "     0   2.38137  -3.48903 68.8674 ...  2.4919e-05     2.46609     19.1614\n",
      "     1  -8.02858     4.241 69.3023 ...     99.9999  0.00459644     74.9492\n",
      "     2 -0.168365  -1.15062 24.2094 ...     99.9978     2.96625      49.885\n",
      "     3   -8.8668   4.52717 65.5084 ... 0.000345783 0.000976516     16.6522\n",
      "     4   -1.1022   2.43362 29.9359 ...     99.9999     3.07166     53.7644\n",
      "     5  -5.46524   2.02873 6.08712 ...     25.7114     4.90766      17.466\n",
      "     6  -4.76349   1.07703 4.08325 ...     20.4173      5.6665      22.665\n",
      "     7  -5.84966   2.63388 7.02519 ...     28.8766      5.0137     31.5863\n",
      "     8  -1.15329  -2.13015 4.76573 ...      24.598     4.91229     17.6525\n",
      "     9  -5.20489   2.19687 9.05858 ...     32.6036     5.66045     34.2314\n",
      "    10   0.41203  -1.73109 1.57516 ...     6.29117  0.00915248     37.6758\n",
      "    11 -0.462417  -2.64713 1.05815 ...     14.4806     2.18394     35.6219\n",
      "    12  0.628065  -3.63877 17.7348 ...     16.3779      5.8025     34.8624\n",
      "    13  -4.46859    1.5429  42.343 ...      15.306     3.26356     35.8882\n",
      "    14  0.156958   -11.463  67.424 ...     10.6943     2.26382     35.2874\n"
     ]
    }
   ],
   "source": [
    "#Unfortunately, sometimes the fitting methods return NaN for some parameters for these models.\n",
    "for c in mod1_features.colnames[1:]:\n",
    "    mod1_features[c][np.isnan(mod1_features[c])]=0\n",
    "    \n",
    "print mod1_features"
   ]
  },
  {
   "cell_type": "code",
   "execution_count": 39,
   "metadata": {
    "collapsed": false
   },
   "outputs": [
    {
     "data": {
      "text/plain": [
       "<bound method ParametricFeatures.fit_sn of <snmachine.snfeatures.ParametricFeatures instance at 0x110a6def0>>"
      ]
     },
     "execution_count": 39,
     "metadata": {},
     "output_type": "execute_result"
    }
   ],
   "source": [
    "mod1Feats.fit_sn\n",
    "#dat.set_model(mod1Feats.fit_sn,mod1_features)"
   ]
  },
  {
   "cell_type": "raw",
   "metadata": {
    "collapsed": true
   },
   "source": [
    "waveFeats=snfeatures.WaveletFeatures()"
   ]
  },
  {
   "cell_type": "raw",
   "metadata": {
    "collapsed": false
   },
   "source": [
    "%%capture --no-stdout\n",
    "if read_from_file:\n",
    "    wave_features=Table.read('%s_wavelets.dat' %run_name, format='ascii')\n",
    "    #Crucial for this format of id's\n",
    "    blah=wave_features['Object'].astype(str)\n",
    "    wave_features.replace_column('Object', blah)\n",
    "    PCA_vals=np.loadtxt('%s_wavelets_PCA_vals.dat' %run_name)\n",
    "    PCA_vec=np.loadtxt('%s_wavelets_PCA_vec.dat' %run_name)\n",
    "    PCA_mean=np.loadtxt('%s_wavelets_PCA_mean.dat' %run_name)\n",
    "else:\n",
    "    wave_features=waveFeats.extract_features(dat,nprocesses=6,output_root=out_int,save_output='all')\n",
    "    wave_features.write('%s_wavelets.dat' %run_name, format='ascii')\n",
    "    np.savetxt('%s_wavelets_PCA_vals.dat' %run_name,waveFeats.PCA_eigenvals)\n",
    "    np.savetxt('%s_wavelets_PCA_vec.dat' %run_name,waveFeats.PCA_eigenvectors)\n",
    "    np.savetxt('%s_wavelets_PCA_mean.dat' %run_name,waveFeats.PCA_mean)\n",
    "    \n",
    "    PCA_vals=waveFeats.PCA_eigenvals\n",
    "    PCA_vec=waveFeats.PCA_eigenvectors\n",
    "    PCA_mean=waveFeats.PCA_mean"
   ]
  },
  {
   "cell_type": "code",
   "execution_count": 17,
   "metadata": {
    "collapsed": false
   },
   "outputs": [],
   "source": [
    "#np.sort(dat.object_names)"
   ]
  },
  {
   "cell_type": "code",
   "execution_count": 23,
   "metadata": {
    "collapsed": false
   },
   "outputs": [
    {
     "name": "stdout",
     "output_type": "stream",
     "text": [
      "Fitting supernova models...\n",
      "Models fitted.\n"
     ]
    }
   ],
   "source": [
    "#dat.set_model(waveFeats.fit_sn,wave_features,PCA_vec,PCA_mean,0,dat.get_max_length(),dat.filter_set)"
   ]
  },
  {
   "cell_type": "code",
   "execution_count": 9,
   "metadata": {
    "collapsed": false
   },
   "outputs": [],
   "source": [
    "#dat.plot_all()"
   ]
  },
  {
   "cell_type": "code",
   "execution_count": 10,
   "metadata": {
    "collapsed": false
   },
   "outputs": [],
   "source": [
    "#wave_features"
   ]
  },
  {
   "cell_type": "code",
   "execution_count": 11,
   "metadata": {
    "collapsed": false
   },
   "outputs": [],
   "source": [
    "#types"
   ]
  },
  {
   "cell_type": "code",
   "execution_count": 12,
   "metadata": {
    "collapsed": false
   },
   "outputs": [],
   "source": [
    "#join(wave_features, types)"
   ]
  },
  {
   "cell_type": "code",
   "execution_count": 13,
   "metadata": {
    "collapsed": false
   },
   "outputs": [],
   "source": [
    "#plt.figure()\n",
    "#tsne_plot.plot(wave_features,join(wave_features,types)['Type'])"
   ]
  },
  {
   "cell_type": "raw",
   "metadata": {
    "collapsed": false
   },
   "source": [
    "#This is a Features object, not yet the extracted features\n",
    "#We need to register the LSST bands with sncosmo (which is why lsst_bands=True)\n",
    "salt2Feats=snfeatures.TemplateFeatures(sampler='leastsq') \n",
    "\n",
    "#This performs the actual feature extraction. All feature extraction methods are parallelised with multiprocessing, \n",
    "#just set nprocesses>1 for parallelisation.\n",
    "if read_from_file:\n",
    "    salt2_features=Table.read('%s_templates.dat' %run_name, format='ascii')\n",
    "    blah=salt2_features['Object'].astype(str)\n",
    "    salt2_features.replace_column('Object', blah)\n",
    "else:\n",
    "    salt2_features=salt2Feats.extract_features(dat,use_redshift=True,nprocesses=6,chain_directory=out_int)\n",
    "    salt2_features.write('%s_templates.dat' %run_name, format='ascii')\n",
    "    \n"
   ]
  },
  {
   "cell_type": "code",
   "execution_count": 14,
   "metadata": {
    "collapsed": false
   },
   "outputs": [],
   "source": [
    "#This code takes the fitted parameters and generates the model light curve for plotting purposes.\n",
    "#dat.set_model(salt2Feats.fit_sn,salt2_features)"
   ]
  },
  {
   "cell_type": "code",
   "execution_count": 15,
   "metadata": {
    "collapsed": false
   },
   "outputs": [],
   "source": [
    "#dat.plot_all()"
   ]
  },
  {
   "cell_type": "code",
   "execution_count": 16,
   "metadata": {
    "collapsed": false
   },
   "outputs": [],
   "source": [
    "#dat.data[dat.object_names[5]]"
   ]
  },
  {
   "cell_type": "code",
   "execution_count": null,
   "metadata": {
    "collapsed": true
   },
   "outputs": [],
   "source": []
  }
 ],
 "metadata": {
  "kernelspec": {
   "display_name": "Python 2",
   "language": "python",
   "name": "python2"
  },
  "language_info": {
   "codemirror_mode": {
    "name": "ipython",
    "version": 2
   },
   "file_extension": ".py",
   "mimetype": "text/x-python",
   "name": "python",
   "nbconvert_exporter": "python",
   "pygments_lexer": "ipython2",
   "version": "2.7.12"
  }
 },
 "nbformat": 4,
 "nbformat_minor": 0
}
