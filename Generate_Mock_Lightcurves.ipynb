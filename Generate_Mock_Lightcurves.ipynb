{
 "cells": [
  {
   "cell_type": "code",
   "execution_count": 1,
   "metadata": {
    "collapsed": false
   },
   "outputs": [
    {
     "name": "stdout",
     "output_type": "stream",
     "text": [
      "Neural networks not available in this version of scikit-learn. Neural networks are available from development version 0.18.\n"
     ]
    }
   ],
   "source": [
    "%load_ext autoreload\n",
    "%autoreload #Use this to reload modules if they are changed on disk while the notebook is running\n",
    "from __future__ import division\n",
    "from snmachine import sndata, snfeatures, snclassifier, tsne_plot\n",
    "import numpy as np\n",
    "import matplotlib.pyplot as plt\n",
    "import time, os, pywt,subprocess\n",
    "from sklearn.decomposition import PCA\n",
    "from astropy.table import Table,join,vstack\n",
    "from astropy.io import fits\n",
    "import sklearn.metrics \n",
    "import sncosmo\n",
    "%matplotlib nbagg\n",
    "from astropy.table import Column"
   ]
  },
  {
   "cell_type": "markdown",
   "metadata": {},
   "source": [
    "## SN numbers with classification code\n",
    "SN001695   - 2\n",
    "\n",
    "2457 - 33\n",
    "\n",
    "2542 - 1\n",
    "\n",
    "5399 - 2\n",
    "\n",
    "13481 - 2\n",
    "\n",
    "13866 - 1 \n",
    "\n",
    "16742 - 21\n",
    "\n",
    "17270 - 32\n",
    "\n",
    "27266 -32\n",
    "\n",
    "64968 - 23\n",
    "\n",
    "149147 -21"
   ]
  },
  {
   "cell_type": "code",
   "execution_count": 2,
   "metadata": {
    "collapsed": true
   },
   "outputs": [],
   "source": [
    "dataset='spcc'"
   ]
  },
  {
   "cell_type": "code",
   "execution_count": 3,
   "metadata": {
    "collapsed": false
   },
   "outputs": [
    {
     "data": {
      "text/plain": [
       "1"
      ]
     },
     "execution_count": 3,
     "metadata": {},
     "output_type": "execute_result"
    }
   ],
   "source": [
    "# WARNING...\n",
    "#Multinest uses a hardcoded character limit for the output file names. I believe it's a limit of 100 characters\n",
    "#so avoid making this file path to lengthy if using nested sampling or multinest output file names will be truncated\n",
    "\n",
    "#Change outdir to somewhere on your computer if you like\n",
    "outdir=os.path.join('output_%s_no_z' %dataset,'')\n",
    "out_features=os.path.join(outdir,'features') #Where we save the extracted features to\n",
    "out_class=os.path.join(outdir,'classifications') #Where we save the classification probabilities and ROC curves\n",
    "out_int=os.path.join(outdir,'int') #Any intermediate files (such as multinest chains or GP fits)\n",
    "\n",
    "subprocess.call(['mkdir',outdir])\n",
    "subprocess.call(['mkdir',out_features])\n",
    "subprocess.call(['mkdir',out_class])\n",
    "subprocess.call(['mkdir',out_int])"
   ]
  },
  {
   "cell_type": "code",
   "execution_count": 4,
   "metadata": {
    "collapsed": true
   },
   "outputs": [],
   "source": [
    "#Data root\n",
    "rt=os.path.join('SPCC_SUBSET','')"
   ]
  },
  {
   "cell_type": "code",
   "execution_count": 5,
   "metadata": {
    "collapsed": false
   },
   "outputs": [
    {
     "name": "stdout",
     "output_type": "stream",
     "text": [
      "Reading data...\n",
      "3 objects read into memory.\n"
     ]
    }
   ],
   "source": [
    "dat=sndata.Dataset(rt)"
   ]
  },
  {
   "cell_type": "code",
   "execution_count": 6,
   "metadata": {
    "collapsed": true
   },
   "outputs": [],
   "source": [
    "read_from_file=False #True #We can use this flag to quickly rerun from saved features\n",
    "run_name=os.path.join(out_features,'%s_all' %dataset)"
   ]
  },
  {
   "cell_type": "code",
   "execution_count": 7,
   "metadata": {
    "collapsed": false
   },
   "outputs": [],
   "source": [
    "dat.object_names[0]\n",
    "types=dat.get_types()\n",
    "types['Type'][np.floor(types['Type']/10)==2]=2\n",
    "types['Type'][np.floor(types['Type']/10)==3]=3"
   ]
  },
  {
   "cell_type": "code",
   "execution_count": 8,
   "metadata": {
    "collapsed": false,
    "scrolled": false
   },
   "outputs": [],
   "source": [
    "#test_table = dat.data['DES_SN001695.DAT'] #get_lightcurve\n",
    "\n",
    "#dat.plot_all()\n",
    "#dat.data[dat.object_names[0]]"
   ]
  },
  {
   "cell_type": "code",
   "execution_count": 9,
   "metadata": {
    "collapsed": false
   },
   "outputs": [],
   "source": [
    "type_II = []\n",
    "for i in range(len(dat.data['DES_SN002457.DAT']['flux'])):\n",
    "    type_II.append(np.random.normal(dat.data['DES_SN002457.DAT']['flux'][i], dat.data['DES_SN002457.DAT']['flux_error'][i], 5))"
   ]
  },
  {
   "cell_type": "code",
   "execution_count": 10,
   "metadata": {
    "collapsed": false
   },
   "outputs": [],
   "source": [
    "type_Ia = []\n",
    "for i in range(len(dat.data['DES_SN002542.DAT']['flux'])):\n",
    "    type_Ia.append(np.random.normal(dat.data['DES_SN002542.DAT']['flux'][i], dat.data['DES_SN002542.DAT']['flux_error'][i], 5))"
   ]
  },
  {
   "cell_type": "code",
   "execution_count": 11,
   "metadata": {
    "collapsed": true
   },
   "outputs": [],
   "source": [
    "type_Ibc = []\n",
    "for i in range(len(dat.data['DES_SN005399.DAT']['flux'])):\n",
    "    type_Ibc.append(np.random.normal(dat.data['DES_SN005399.DAT']['flux'][i], dat.data['DES_SN005399.DAT']['flux_error'][i], 5))"
   ]
  },
  {
   "cell_type": "code",
   "execution_count": 12,
   "metadata": {
    "collapsed": false
   },
   "outputs": [],
   "source": [
    "type_Ia = np.array(type_Ia)\n",
    "type_Ibc = np.array(type_Ibc)\n",
    "type_II = np.array(type_II)"
   ]
  },
  {
   "cell_type": "code",
   "execution_count": 16,
   "metadata": {
    "collapsed": false
   },
   "outputs": [],
   "source": [
    "#test_table.replace_column('flux', type_II[:,0])"
   ]
  },
  {
   "cell_type": "code",
   "execution_count": 17,
   "metadata": {
    "collapsed": false
   },
   "outputs": [],
   "source": [
    "#test_table.write('testing.dat',format = 'ascii')"
   ]
  },
  {
   "cell_type": "code",
   "execution_count": 18,
   "metadata": {
    "collapsed": false
   },
   "outputs": [],
   "source": [
    "#dat.data['DES_SN001695.DAT']\n",
    "#print type_Ia"
   ]
  },
  {
   "cell_type": "code",
   "execution_count": 14,
   "metadata": {
    "collapsed": false
   },
   "outputs": [],
   "source": [
    "#isinstance(dat.object_names, np.ndarray)"
   ]
  },
  {
   "cell_type": "code",
   "execution_count": 110,
   "metadata": {
    "collapsed": false
   },
   "outputs": [],
   "source": [
    "#test_table_II = dat.data['DES_SN002457.DAT']"
   ]
  },
  {
   "cell_type": "code",
   "execution_count": 13,
   "metadata": {
    "collapsed": false
   },
   "outputs": [],
   "source": [
    "#dir(dat)"
   ]
  },
  {
   "cell_type": "code",
   "execution_count": 15,
   "metadata": {
    "collapsed": false
   },
   "outputs": [],
   "source": [
    "#print data[0:10]\n",
    "#print data[5].split()\n",
    "def make_new_data(filename, table, output):\n",
    "    with open(filename) as f:\n",
    "        data = f.read().split(\"\\n\")\n",
    "    filters = data[5].split()\n",
    "    survey = data[0].split()\n",
    "    stuffRA = data[6].split()\n",
    "    stuffDec = data[7].split()\n",
    "    MWEBV = data[11].split()\n",
    "    table.meta = {survey[0][:-1]: survey[1], stuffRA[0][:-1]: stuffRA[1], stuffDec[0][:-1]: stuffDec[1],filters[0][:-1]: filters[1],\n",
    "                 MWEBV[0][:-1]: MWEBV[1]}\n",
    "    #table.rename_column('mjd', 'MJD')\n",
    "    #table.rename_column('filter ', 'FLT')\n",
    "    #table.rename_column('flux', 'FLUXCAL')\n",
    "    #table.rename_column('flux_error', 'FLUXCALERR')\n",
    "    sncosmo.write_lc(table, 'new_mocks/%s.dat'%output,pedantic=True, format = 'snana')"
   ]
  },
  {
   "cell_type": "code",
   "execution_count": 16,
   "metadata": {
    "collapsed": false
   },
   "outputs": [
    {
     "name": "stdout",
     "output_type": "stream",
     "text": [
      "      mjd       filter   flux  flux_error  zp  zpsys\n",
      "--------------- ------ ------- ---------- ---- -----\n",
      "            0.0   desg  -1.628      10.48 27.5    ab\n",
      "0.0160000000033   desr  -12.65      7.845 27.5    ab\n",
      "0.0320000000065   desi  -10.86      9.314 27.5    ab\n",
      " 0.977000000006   desz  -4.156      5.328 27.5    ab\n",
      "          1.985   desg  -2.024      3.205 27.5    ab\n",
      "            2.0   desr  0.0281      2.425 27.5    ab\n",
      "          2.016   desi  0.3376       4.31 27.5    ab\n",
      "          9.957   desz  -6.591      27.32 27.5    ab\n",
      "         10.106   desg   3.678      25.57 27.5    ab\n",
      "         10.121   desr  -1.047      4.152 27.5    ab\n",
      "            ...    ...     ...        ...  ...   ...\n",
      "        113.868   desr   1.241      4.828 27.5    ab\n",
      "        113.957   desi   14.87       5.61 27.5    ab\n",
      "        113.965   desz   13.31      5.166 27.5    ab\n",
      "        125.817   desg -0.2672       2.48 27.5    ab\n",
      "        125.821   desr   2.634      1.659 27.5    ab\n",
      "        125.836   desi   5.357      2.513 27.5    ab\n",
      "        125.852   desz   9.238       3.94 27.5    ab\n",
      "        133.821   desg -0.5652      7.568 27.5    ab\n",
      "        133.832   desr   1.952      2.963 27.5    ab\n",
      "        133.856   desi  0.3662      5.022 27.5    ab\n",
      "        133.879   desz   19.26      5.441 27.5    ab\n",
      "Length = 103 rows\n"
     ]
    }
   ],
   "source": [
    "filename_II = 'SPCC_SUBSET/DES_SN002457.DAT'\n",
    "filename_Ia = 'SPCC_SUBSET/DES_SN002542.DAT'\n",
    "filename_Ibc = 'SPCC_SUBSET/DES_SN005399.DAT'\n",
    "\n",
    "test_table_II = dat.data['DES_SN002457.DAT']\n",
    "test_table_Ia = dat.data['DES_SN002542.DAT']\n",
    "test_table_Ibc = dat.data['DES_SN005399.DAT']\n",
    "#print test_table_II\n",
    "\n",
    "test_table_II.rename_column('flux', 'FLUXCAL')\n",
    "test_table_II.rename_column('flux_error', 'FLUXCALERR')\n",
    "    \n",
    "test_table_Ibc.rename_column('flux', 'FLUXCAL')\n",
    "test_table_Ibc.rename_column('flux_error', 'FLUXCALERR')\n",
    "    \n",
    "test_table_Ia.rename_column('flux', 'FLUXCAL')\n",
    "test_table_Ia.rename_column('flux_error', 'FLUXCALERR')\n",
    "\n",
    "objs=[]\n",
    "new_data={}\n",
    "\n",
    "for i in range(5):\n",
    "    \n",
    "    \n",
    "    test_table_Ia.replace_column('FLUXCAL', type_Ia[:,i])\n",
    "\n",
    "     \n",
    "    test_table_Ibc.replace_column('FLUXCAL', type_Ibc[:,i])\n",
    " \n",
    "    test_table_II.replace_column('FLUXCAL', type_II[:,i])\n",
    "    \n",
    "    make_new_data(filename_Ibc, test_table_Ibc, 'Ibc_%s'%i)\n",
    "    make_new_data(filename_II, test_table_II, 'II_%s'%i)\n",
    "    make_new_data(filename_Ia, test_table_Ia, 'Ia_%s'%i)\n",
    "    \n",
    "    #objs.append((str)(i))\n",
    "    new_data[(str)(i)]=test_table_II.copy()  #new_light_curve_Ia\n",
    "    new_data[(str)(i+5)]=test_table_Ia.copy()#new_light_curve_II\n",
    "    new_data[(str)(i+10)]=test_table_Ibc.copy()#new_light_curve_Ibc\n",
    "    \n",
    "sncosmo.read_lc(new_data)\n",
    "#new_data = Counter(new_data_Ia) + Counter(new_data_II) + Counter(new_data_Ibc)\n",
    "\n",
    "for i in range(15):    \n",
    "    objs.append((str)(i))\n",
    "    \n",
    "dat.object_names=np.asarray(objs)\n",
    "dat.data=new_data"
   ]
  },
  {
   "cell_type": "code",
   "execution_count": 113,
   "metadata": {
    "collapsed": false
   },
   "outputs": [],
   "source": [
    "filename = 'SPCC_SUBSET/DES_SN002457.DAT'\n",
    "with open(filename) as f:\n",
    "    data = f.read().split(\"\\n\")"
   ]
  },
  {
   "cell_type": "code",
   "execution_count": 144,
   "metadata": {
    "collapsed": false
   },
   "outputs": [],
   "source": [
    "#for i in range(0,len(data)):\n",
    "#    print i, np.where(data[i].split()[0]==\"FLUXCALERR:\")\n",
    "# MJD  FLT FIELD   FLUXCAL   FLUXCALERR   SNR    MAG     MAGERR  SIM_MAG\n",
    "test_table_II.rename_column( 'MJD','mjd')"
   ]
  },
  {
   "cell_type": "code",
   "execution_count": 146,
   "metadata": {
    "collapsed": false
   },
   "outputs": [
    {
     "name": "stdout",
     "output_type": "stream",
     "text": [
      "      mjd       filter       flux      flux_error  zp  zpsys\n",
      "--------------- ------ --------------- ---------- ---- -----\n",
      "            0.0   desg   -14.720074909      10.48 27.5    ab\n",
      "0.0160000000033   desr  -10.0200738069      7.845 27.5    ab\n",
      "0.0320000000065   desi   15.8283821719      9.314 27.5    ab\n",
      " 0.977000000006   desz  -1.54473523767      5.328 27.5    ab\n",
      "          1.985   desg  -2.07808996718      3.205 27.5    ab\n",
      "            2.0   desr  -2.68677401212      2.425 27.5    ab\n",
      "          2.016   desi   -3.0445893869       4.31 27.5    ab\n",
      "          9.957   desz   14.1105912517      27.32 27.5    ab\n",
      "         10.106   desg  -17.7926700123      25.57 27.5    ab\n",
      "         10.121   desr   3.18628290331      4.152 27.5    ab\n",
      "            ...    ...             ...        ...  ...   ...\n",
      "        113.868   desr  -2.87035155679      4.828 27.5    ab\n",
      "        113.957   desi    12.558242454       5.61 27.5    ab\n",
      "        113.965   desz   11.8116159538      5.166 27.5    ab\n",
      "        125.817   desg   1.54318656796       2.48 27.5    ab\n",
      "        125.821   desr   2.98782795663      1.659 27.5    ab\n",
      "        125.836   desi   4.47720426145      2.513 27.5    ab\n",
      "        125.852   desz   11.0274173635       3.94 27.5    ab\n",
      "        133.821   desg  -17.7641729991      7.568 27.5    ab\n",
      "        133.832   desr -0.163720929295      2.963 27.5    ab\n",
      "        133.856   desi   2.35875326448      5.022 27.5    ab\n",
      "        133.879   desz   25.5197080048      5.441 27.5    ab\n",
      "Length = 103 rows\n"
     ]
    }
   ],
   "source": [
    "type(test_table_II)\n",
    "print test_table_II\n",
    "make_new_data(filename , test_table_II)"
   ]
  },
  {
   "cell_type": "code",
   "execution_count": 25,
   "metadata": {
    "collapsed": false
   },
   "outputs": [
    {
     "ename": "ValueError",
     "evalue": "Missing required metadata kw: RA",
     "output_type": "error",
     "traceback": [
      "\u001b[0;31m---------------------------------------------------------------------------\u001b[0m",
      "\u001b[0;31mValueError\u001b[0m                                Traceback (most recent call last)",
      "\u001b[0;32m<ipython-input-25-30c286a29022>\u001b[0m in \u001b[0;36m<module>\u001b[0;34m()\u001b[0m\n\u001b[1;32m      1\u001b[0m sncosmo.write_lc(test_table_II, \n\u001b[0;32m----> 2\u001b[0;31m                 'test_table', format='snana')\n\u001b[0m",
      "\u001b[0;32m//anaconda/lib/python2.7/site-packages/sncosmo/io.pyc\u001b[0m in \u001b[0;36mwrite_lc\u001b[0;34m(data, fname, format, **kwargs)\u001b[0m\n\u001b[1;32m    715\u001b[0m             \u001b[0mdata\u001b[0m \u001b[0;34m=\u001b[0m \u001b[0mdict_to_array\u001b[0m\u001b[0;34m(\u001b[0m\u001b[0mdata\u001b[0m\u001b[0;34m)\u001b[0m\u001b[0;34m\u001b[0m\u001b[0m\n\u001b[1;32m    716\u001b[0m     \u001b[0;32mwith\u001b[0m \u001b[0mopen\u001b[0m\u001b[0;34m(\u001b[0m\u001b[0mfname\u001b[0m\u001b[0;34m,\u001b[0m \u001b[0;34m'w'\u001b[0m\u001b[0;34m)\u001b[0m \u001b[0;32mas\u001b[0m \u001b[0mf\u001b[0m\u001b[0;34m:\u001b[0m\u001b[0;34m\u001b[0m\u001b[0m\n\u001b[0;32m--> 717\u001b[0;31m         \u001b[0mWRITERS\u001b[0m\u001b[0;34m[\u001b[0m\u001b[0mformat\u001b[0m\u001b[0;34m]\u001b[0m\u001b[0;34m(\u001b[0m\u001b[0mf\u001b[0m\u001b[0;34m,\u001b[0m \u001b[0mdata\u001b[0m\u001b[0;34m,\u001b[0m \u001b[0mmeta\u001b[0m\u001b[0;34m,\u001b[0m \u001b[0;34m**\u001b[0m\u001b[0mkwargs\u001b[0m\u001b[0;34m)\u001b[0m\u001b[0;34m\u001b[0m\u001b[0m\n\u001b[0m\u001b[1;32m    718\u001b[0m \u001b[0;34m\u001b[0m\u001b[0m\n\u001b[1;32m    719\u001b[0m \u001b[0;34m\u001b[0m\u001b[0m\n",
      "\u001b[0;32m//anaconda/lib/python2.7/site-packages/sncosmo/io.pyc\u001b[0m in \u001b[0;36m_write_snana\u001b[0;34m(f, data, meta, **kwargs)\u001b[0m\n\u001b[1;32m    617\u001b[0m         \u001b[0;32mfor\u001b[0m \u001b[0mkey\u001b[0m \u001b[0;32min\u001b[0m \u001b[0mSNANA_REQUIRED_META\u001b[0m\u001b[0;34m:\u001b[0m\u001b[0;34m\u001b[0m\u001b[0m\n\u001b[1;32m    618\u001b[0m             \u001b[0;32mif\u001b[0m \u001b[0mkey\u001b[0m \u001b[0;32mnot\u001b[0m \u001b[0;32min\u001b[0m \u001b[0mkeys_as_written\u001b[0m\u001b[0;34m:\u001b[0m\u001b[0;34m\u001b[0m\u001b[0m\n\u001b[0;32m--> 619\u001b[0;31m                 \u001b[0;32mraise\u001b[0m \u001b[0mValueError\u001b[0m\u001b[0;34m(\u001b[0m\u001b[0;34m'Missing required metadata kw: '\u001b[0m \u001b[0;34m+\u001b[0m \u001b[0mkey\u001b[0m\u001b[0;34m)\u001b[0m\u001b[0;34m\u001b[0m\u001b[0m\n\u001b[0m\u001b[1;32m    620\u001b[0m \u001b[0;34m\u001b[0m\u001b[0m\n\u001b[1;32m    621\u001b[0m     \u001b[0;31m# Get column names and data length\u001b[0m\u001b[0;34m\u001b[0m\u001b[0;34m\u001b[0m\u001b[0m\n",
      "\u001b[0;31mValueError\u001b[0m: Missing required metadata kw: RA"
     ]
    }
   ],
   "source": [
    "sncosmo.write_lc(test_table_II, \n",
    "                'test_table', format='snana')"
   ]
  },
  {
   "cell_type": "code",
   "execution_count": 18,
   "metadata": {
    "collapsed": true
   },
   "outputs": [],
   "source": [
    "#For now we restrict ourselves to three supernova types: Ia (1), II (2) and Ibc (3)\n",
    "types=dat.get_types()\n",
    "types['Type'][np.floor(types['Type']/10)==2]=2\n",
    "types['Type'][np.floor(types['Type']/10)==3]=3"
   ]
  },
  {
   "cell_type": "code",
   "execution_count": 19,
   "metadata": {
    "collapsed": false
   },
   "outputs": [
    {
     "data": {
      "application/javascript": [
       "/* Put everything inside the global mpl namespace */\n",
       "window.mpl = {};\n",
       "\n",
       "mpl.get_websocket_type = function() {\n",
       "    if (typeof(WebSocket) !== 'undefined') {\n",
       "        return WebSocket;\n",
       "    } else if (typeof(MozWebSocket) !== 'undefined') {\n",
       "        return MozWebSocket;\n",
       "    } else {\n",
       "        alert('Your browser does not have WebSocket support.' +\n",
       "              'Please try Chrome, Safari or Firefox ≥ 6. ' +\n",
       "              'Firefox 4 and 5 are also supported but you ' +\n",
       "              'have to enable WebSockets in about:config.');\n",
       "    };\n",
       "}\n",
       "\n",
       "mpl.figure = function(figure_id, websocket, ondownload, parent_element) {\n",
       "    this.id = figure_id;\n",
       "\n",
       "    this.ws = websocket;\n",
       "\n",
       "    this.supports_binary = (this.ws.binaryType != undefined);\n",
       "\n",
       "    if (!this.supports_binary) {\n",
       "        var warnings = document.getElementById(\"mpl-warnings\");\n",
       "        if (warnings) {\n",
       "            warnings.style.display = 'block';\n",
       "            warnings.textContent = (\n",
       "                \"This browser does not support binary websocket messages. \" +\n",
       "                    \"Performance may be slow.\");\n",
       "        }\n",
       "    }\n",
       "\n",
       "    this.imageObj = new Image();\n",
       "\n",
       "    this.context = undefined;\n",
       "    this.message = undefined;\n",
       "    this.canvas = undefined;\n",
       "    this.rubberband_canvas = undefined;\n",
       "    this.rubberband_context = undefined;\n",
       "    this.format_dropdown = undefined;\n",
       "\n",
       "    this.image_mode = 'full';\n",
       "\n",
       "    this.root = $('<div/>');\n",
       "    this._root_extra_style(this.root)\n",
       "    this.root.attr('style', 'display: inline-block');\n",
       "\n",
       "    $(parent_element).append(this.root);\n",
       "\n",
       "    this._init_header(this);\n",
       "    this._init_canvas(this);\n",
       "    this._init_toolbar(this);\n",
       "\n",
       "    var fig = this;\n",
       "\n",
       "    this.waiting = false;\n",
       "\n",
       "    this.ws.onopen =  function () {\n",
       "            fig.send_message(\"supports_binary\", {value: fig.supports_binary});\n",
       "            fig.send_message(\"send_image_mode\", {});\n",
       "            fig.send_message(\"refresh\", {});\n",
       "        }\n",
       "\n",
       "    this.imageObj.onload = function() {\n",
       "            if (fig.image_mode == 'full') {\n",
       "                // Full images could contain transparency (where diff images\n",
       "                // almost always do), so we need to clear the canvas so that\n",
       "                // there is no ghosting.\n",
       "                fig.context.clearRect(0, 0, fig.canvas.width, fig.canvas.height);\n",
       "            }\n",
       "            fig.context.drawImage(fig.imageObj, 0, 0);\n",
       "        };\n",
       "\n",
       "    this.imageObj.onunload = function() {\n",
       "        this.ws.close();\n",
       "    }\n",
       "\n",
       "    this.ws.onmessage = this._make_on_message_function(this);\n",
       "\n",
       "    this.ondownload = ondownload;\n",
       "}\n",
       "\n",
       "mpl.figure.prototype._init_header = function() {\n",
       "    var titlebar = $(\n",
       "        '<div class=\"ui-dialog-titlebar ui-widget-header ui-corner-all ' +\n",
       "        'ui-helper-clearfix\"/>');\n",
       "    var titletext = $(\n",
       "        '<div class=\"ui-dialog-title\" style=\"width: 100%; ' +\n",
       "        'text-align: center; padding: 3px;\"/>');\n",
       "    titlebar.append(titletext)\n",
       "    this.root.append(titlebar);\n",
       "    this.header = titletext[0];\n",
       "}\n",
       "\n",
       "\n",
       "\n",
       "mpl.figure.prototype._canvas_extra_style = function(canvas_div) {\n",
       "\n",
       "}\n",
       "\n",
       "\n",
       "mpl.figure.prototype._root_extra_style = function(canvas_div) {\n",
       "\n",
       "}\n",
       "\n",
       "mpl.figure.prototype._init_canvas = function() {\n",
       "    var fig = this;\n",
       "\n",
       "    var canvas_div = $('<div/>');\n",
       "\n",
       "    canvas_div.attr('style', 'position: relative; clear: both; outline: 0');\n",
       "\n",
       "    function canvas_keyboard_event(event) {\n",
       "        return fig.key_event(event, event['data']);\n",
       "    }\n",
       "\n",
       "    canvas_div.keydown('key_press', canvas_keyboard_event);\n",
       "    canvas_div.keyup('key_release', canvas_keyboard_event);\n",
       "    this.canvas_div = canvas_div\n",
       "    this._canvas_extra_style(canvas_div)\n",
       "    this.root.append(canvas_div);\n",
       "\n",
       "    var canvas = $('<canvas/>');\n",
       "    canvas.addClass('mpl-canvas');\n",
       "    canvas.attr('style', \"left: 0; top: 0; z-index: 0; outline: 0\")\n",
       "\n",
       "    this.canvas = canvas[0];\n",
       "    this.context = canvas[0].getContext(\"2d\");\n",
       "\n",
       "    var rubberband = $('<canvas/>');\n",
       "    rubberband.attr('style', \"position: absolute; left: 0; top: 0; z-index: 1;\")\n",
       "\n",
       "    var pass_mouse_events = true;\n",
       "\n",
       "    canvas_div.resizable({\n",
       "        start: function(event, ui) {\n",
       "            pass_mouse_events = false;\n",
       "        },\n",
       "        resize: function(event, ui) {\n",
       "            fig.request_resize(ui.size.width, ui.size.height);\n",
       "        },\n",
       "        stop: function(event, ui) {\n",
       "            pass_mouse_events = true;\n",
       "            fig.request_resize(ui.size.width, ui.size.height);\n",
       "        },\n",
       "    });\n",
       "\n",
       "    function mouse_event_fn(event) {\n",
       "        if (pass_mouse_events)\n",
       "            return fig.mouse_event(event, event['data']);\n",
       "    }\n",
       "\n",
       "    rubberband.mousedown('button_press', mouse_event_fn);\n",
       "    rubberband.mouseup('button_release', mouse_event_fn);\n",
       "    // Throttle sequential mouse events to 1 every 20ms.\n",
       "    rubberband.mousemove('motion_notify', mouse_event_fn);\n",
       "\n",
       "    rubberband.mouseenter('figure_enter', mouse_event_fn);\n",
       "    rubberband.mouseleave('figure_leave', mouse_event_fn);\n",
       "\n",
       "    canvas_div.on(\"wheel\", function (event) {\n",
       "        event = event.originalEvent;\n",
       "        event['data'] = 'scroll'\n",
       "        if (event.deltaY < 0) {\n",
       "            event.step = 1;\n",
       "        } else {\n",
       "            event.step = -1;\n",
       "        }\n",
       "        mouse_event_fn(event);\n",
       "    });\n",
       "\n",
       "    canvas_div.append(canvas);\n",
       "    canvas_div.append(rubberband);\n",
       "\n",
       "    this.rubberband = rubberband;\n",
       "    this.rubberband_canvas = rubberband[0];\n",
       "    this.rubberband_context = rubberband[0].getContext(\"2d\");\n",
       "    this.rubberband_context.strokeStyle = \"#000000\";\n",
       "\n",
       "    this._resize_canvas = function(width, height) {\n",
       "        // Keep the size of the canvas, canvas container, and rubber band\n",
       "        // canvas in synch.\n",
       "        canvas_div.css('width', width)\n",
       "        canvas_div.css('height', height)\n",
       "\n",
       "        canvas.attr('width', width);\n",
       "        canvas.attr('height', height);\n",
       "\n",
       "        rubberband.attr('width', width);\n",
       "        rubberband.attr('height', height);\n",
       "    }\n",
       "\n",
       "    // Set the figure to an initial 600x600px, this will subsequently be updated\n",
       "    // upon first draw.\n",
       "    this._resize_canvas(600, 600);\n",
       "\n",
       "    // Disable right mouse context menu.\n",
       "    $(this.rubberband_canvas).bind(\"contextmenu\",function(e){\n",
       "        return false;\n",
       "    });\n",
       "\n",
       "    function set_focus () {\n",
       "        canvas.focus();\n",
       "        canvas_div.focus();\n",
       "    }\n",
       "\n",
       "    window.setTimeout(set_focus, 100);\n",
       "}\n",
       "\n",
       "mpl.figure.prototype._init_toolbar = function() {\n",
       "    var fig = this;\n",
       "\n",
       "    var nav_element = $('<div/>')\n",
       "    nav_element.attr('style', 'width: 100%');\n",
       "    this.root.append(nav_element);\n",
       "\n",
       "    // Define a callback function for later on.\n",
       "    function toolbar_event(event) {\n",
       "        return fig.toolbar_button_onclick(event['data']);\n",
       "    }\n",
       "    function toolbar_mouse_event(event) {\n",
       "        return fig.toolbar_button_onmouseover(event['data']);\n",
       "    }\n",
       "\n",
       "    for(var toolbar_ind in mpl.toolbar_items) {\n",
       "        var name = mpl.toolbar_items[toolbar_ind][0];\n",
       "        var tooltip = mpl.toolbar_items[toolbar_ind][1];\n",
       "        var image = mpl.toolbar_items[toolbar_ind][2];\n",
       "        var method_name = mpl.toolbar_items[toolbar_ind][3];\n",
       "\n",
       "        if (!name) {\n",
       "            // put a spacer in here.\n",
       "            continue;\n",
       "        }\n",
       "        var button = $('<button/>');\n",
       "        button.addClass('ui-button ui-widget ui-state-default ui-corner-all ' +\n",
       "                        'ui-button-icon-only');\n",
       "        button.attr('role', 'button');\n",
       "        button.attr('aria-disabled', 'false');\n",
       "        button.click(method_name, toolbar_event);\n",
       "        button.mouseover(tooltip, toolbar_mouse_event);\n",
       "\n",
       "        var icon_img = $('<span/>');\n",
       "        icon_img.addClass('ui-button-icon-primary ui-icon');\n",
       "        icon_img.addClass(image);\n",
       "        icon_img.addClass('ui-corner-all');\n",
       "\n",
       "        var tooltip_span = $('<span/>');\n",
       "        tooltip_span.addClass('ui-button-text');\n",
       "        tooltip_span.html(tooltip);\n",
       "\n",
       "        button.append(icon_img);\n",
       "        button.append(tooltip_span);\n",
       "\n",
       "        nav_element.append(button);\n",
       "    }\n",
       "\n",
       "    var fmt_picker_span = $('<span/>');\n",
       "\n",
       "    var fmt_picker = $('<select/>');\n",
       "    fmt_picker.addClass('mpl-toolbar-option ui-widget ui-widget-content');\n",
       "    fmt_picker_span.append(fmt_picker);\n",
       "    nav_element.append(fmt_picker_span);\n",
       "    this.format_dropdown = fmt_picker[0];\n",
       "\n",
       "    for (var ind in mpl.extensions) {\n",
       "        var fmt = mpl.extensions[ind];\n",
       "        var option = $(\n",
       "            '<option/>', {selected: fmt === mpl.default_extension}).html(fmt);\n",
       "        fmt_picker.append(option)\n",
       "    }\n",
       "\n",
       "    // Add hover states to the ui-buttons\n",
       "    $( \".ui-button\" ).hover(\n",
       "        function() { $(this).addClass(\"ui-state-hover\");},\n",
       "        function() { $(this).removeClass(\"ui-state-hover\");}\n",
       "    );\n",
       "\n",
       "    var status_bar = $('<span class=\"mpl-message\"/>');\n",
       "    nav_element.append(status_bar);\n",
       "    this.message = status_bar[0];\n",
       "}\n",
       "\n",
       "mpl.figure.prototype.request_resize = function(x_pixels, y_pixels) {\n",
       "    // Request matplotlib to resize the figure. Matplotlib will then trigger a resize in the client,\n",
       "    // which will in turn request a refresh of the image.\n",
       "    this.send_message('resize', {'width': x_pixels, 'height': y_pixels});\n",
       "}\n",
       "\n",
       "mpl.figure.prototype.send_message = function(type, properties) {\n",
       "    properties['type'] = type;\n",
       "    properties['figure_id'] = this.id;\n",
       "    this.ws.send(JSON.stringify(properties));\n",
       "}\n",
       "\n",
       "mpl.figure.prototype.send_draw_message = function() {\n",
       "    if (!this.waiting) {\n",
       "        this.waiting = true;\n",
       "        this.ws.send(JSON.stringify({type: \"draw\", figure_id: this.id}));\n",
       "    }\n",
       "}\n",
       "\n",
       "\n",
       "mpl.figure.prototype.handle_save = function(fig, msg) {\n",
       "    var format_dropdown = fig.format_dropdown;\n",
       "    var format = format_dropdown.options[format_dropdown.selectedIndex].value;\n",
       "    fig.ondownload(fig, format);\n",
       "}\n",
       "\n",
       "\n",
       "mpl.figure.prototype.handle_resize = function(fig, msg) {\n",
       "    var size = msg['size'];\n",
       "    if (size[0] != fig.canvas.width || size[1] != fig.canvas.height) {\n",
       "        fig._resize_canvas(size[0], size[1]);\n",
       "        fig.send_message(\"refresh\", {});\n",
       "    };\n",
       "}\n",
       "\n",
       "mpl.figure.prototype.handle_rubberband = function(fig, msg) {\n",
       "    var x0 = msg['x0'];\n",
       "    var y0 = fig.canvas.height - msg['y0'];\n",
       "    var x1 = msg['x1'];\n",
       "    var y1 = fig.canvas.height - msg['y1'];\n",
       "    x0 = Math.floor(x0) + 0.5;\n",
       "    y0 = Math.floor(y0) + 0.5;\n",
       "    x1 = Math.floor(x1) + 0.5;\n",
       "    y1 = Math.floor(y1) + 0.5;\n",
       "    var min_x = Math.min(x0, x1);\n",
       "    var min_y = Math.min(y0, y1);\n",
       "    var width = Math.abs(x1 - x0);\n",
       "    var height = Math.abs(y1 - y0);\n",
       "\n",
       "    fig.rubberband_context.clearRect(\n",
       "        0, 0, fig.canvas.width, fig.canvas.height);\n",
       "\n",
       "    fig.rubberband_context.strokeRect(min_x, min_y, width, height);\n",
       "}\n",
       "\n",
       "mpl.figure.prototype.handle_figure_label = function(fig, msg) {\n",
       "    // Updates the figure title.\n",
       "    fig.header.textContent = msg['label'];\n",
       "}\n",
       "\n",
       "mpl.figure.prototype.handle_cursor = function(fig, msg) {\n",
       "    var cursor = msg['cursor'];\n",
       "    switch(cursor)\n",
       "    {\n",
       "    case 0:\n",
       "        cursor = 'pointer';\n",
       "        break;\n",
       "    case 1:\n",
       "        cursor = 'default';\n",
       "        break;\n",
       "    case 2:\n",
       "        cursor = 'crosshair';\n",
       "        break;\n",
       "    case 3:\n",
       "        cursor = 'move';\n",
       "        break;\n",
       "    }\n",
       "    fig.rubberband_canvas.style.cursor = cursor;\n",
       "}\n",
       "\n",
       "mpl.figure.prototype.handle_message = function(fig, msg) {\n",
       "    fig.message.textContent = msg['message'];\n",
       "}\n",
       "\n",
       "mpl.figure.prototype.handle_draw = function(fig, msg) {\n",
       "    // Request the server to send over a new figure.\n",
       "    fig.send_draw_message();\n",
       "}\n",
       "\n",
       "mpl.figure.prototype.handle_image_mode = function(fig, msg) {\n",
       "    fig.image_mode = msg['mode'];\n",
       "}\n",
       "\n",
       "mpl.figure.prototype.updated_canvas_event = function() {\n",
       "    // Called whenever the canvas gets updated.\n",
       "    this.send_message(\"ack\", {});\n",
       "}\n",
       "\n",
       "// A function to construct a web socket function for onmessage handling.\n",
       "// Called in the figure constructor.\n",
       "mpl.figure.prototype._make_on_message_function = function(fig) {\n",
       "    return function socket_on_message(evt) {\n",
       "        if (evt.data instanceof Blob) {\n",
       "            /* FIXME: We get \"Resource interpreted as Image but\n",
       "             * transferred with MIME type text/plain:\" errors on\n",
       "             * Chrome.  But how to set the MIME type?  It doesn't seem\n",
       "             * to be part of the websocket stream */\n",
       "            evt.data.type = \"image/png\";\n",
       "\n",
       "            /* Free the memory for the previous frames */\n",
       "            if (fig.imageObj.src) {\n",
       "                (window.URL || window.webkitURL).revokeObjectURL(\n",
       "                    fig.imageObj.src);\n",
       "            }\n",
       "\n",
       "            fig.imageObj.src = (window.URL || window.webkitURL).createObjectURL(\n",
       "                evt.data);\n",
       "            fig.updated_canvas_event();\n",
       "            fig.waiting = false;\n",
       "            return;\n",
       "        }\n",
       "        else if (typeof evt.data === 'string' && evt.data.slice(0, 21) == \"data:image/png;base64\") {\n",
       "            fig.imageObj.src = evt.data;\n",
       "            fig.updated_canvas_event();\n",
       "            fig.waiting = false;\n",
       "            return;\n",
       "        }\n",
       "\n",
       "        var msg = JSON.parse(evt.data);\n",
       "        var msg_type = msg['type'];\n",
       "\n",
       "        // Call the  \"handle_{type}\" callback, which takes\n",
       "        // the figure and JSON message as its only arguments.\n",
       "        try {\n",
       "            var callback = fig[\"handle_\" + msg_type];\n",
       "        } catch (e) {\n",
       "            console.log(\"No handler for the '\" + msg_type + \"' message type: \", msg);\n",
       "            return;\n",
       "        }\n",
       "\n",
       "        if (callback) {\n",
       "            try {\n",
       "                // console.log(\"Handling '\" + msg_type + \"' message: \", msg);\n",
       "                callback(fig, msg);\n",
       "            } catch (e) {\n",
       "                console.log(\"Exception inside the 'handler_\" + msg_type + \"' callback:\", e, e.stack, msg);\n",
       "            }\n",
       "        }\n",
       "    };\n",
       "}\n",
       "\n",
       "// from http://stackoverflow.com/questions/1114465/getting-mouse-location-in-canvas\n",
       "mpl.findpos = function(e) {\n",
       "    //this section is from http://www.quirksmode.org/js/events_properties.html\n",
       "    var targ;\n",
       "    if (!e)\n",
       "        e = window.event;\n",
       "    if (e.target)\n",
       "        targ = e.target;\n",
       "    else if (e.srcElement)\n",
       "        targ = e.srcElement;\n",
       "    if (targ.nodeType == 3) // defeat Safari bug\n",
       "        targ = targ.parentNode;\n",
       "\n",
       "    // jQuery normalizes the pageX and pageY\n",
       "    // pageX,Y are the mouse positions relative to the document\n",
       "    // offset() returns the position of the element relative to the document\n",
       "    var x = e.pageX - $(targ).offset().left;\n",
       "    var y = e.pageY - $(targ).offset().top;\n",
       "\n",
       "    return {\"x\": x, \"y\": y};\n",
       "};\n",
       "\n",
       "/*\n",
       " * return a copy of an object with only non-object keys\n",
       " * we need this to avoid circular references\n",
       " * http://stackoverflow.com/a/24161582/3208463\n",
       " */\n",
       "function simpleKeys (original) {\n",
       "  return Object.keys(original).reduce(function (obj, key) {\n",
       "    if (typeof original[key] !== 'object')\n",
       "        obj[key] = original[key]\n",
       "    return obj;\n",
       "  }, {});\n",
       "}\n",
       "\n",
       "mpl.figure.prototype.mouse_event = function(event, name) {\n",
       "    var canvas_pos = mpl.findpos(event)\n",
       "\n",
       "    if (name === 'button_press')\n",
       "    {\n",
       "        this.canvas.focus();\n",
       "        this.canvas_div.focus();\n",
       "    }\n",
       "\n",
       "    var x = canvas_pos.x;\n",
       "    var y = canvas_pos.y;\n",
       "\n",
       "    this.send_message(name, {x: x, y: y, button: event.button,\n",
       "                             step: event.step,\n",
       "                             guiEvent: simpleKeys(event)});\n",
       "\n",
       "    /* This prevents the web browser from automatically changing to\n",
       "     * the text insertion cursor when the button is pressed.  We want\n",
       "     * to control all of the cursor setting manually through the\n",
       "     * 'cursor' event from matplotlib */\n",
       "    event.preventDefault();\n",
       "    return false;\n",
       "}\n",
       "\n",
       "mpl.figure.prototype._key_event_extra = function(event, name) {\n",
       "    // Handle any extra behaviour associated with a key event\n",
       "}\n",
       "\n",
       "mpl.figure.prototype.key_event = function(event, name) {\n",
       "\n",
       "    // Prevent repeat events\n",
       "    if (name == 'key_press')\n",
       "    {\n",
       "        if (event.which === this._key)\n",
       "            return;\n",
       "        else\n",
       "            this._key = event.which;\n",
       "    }\n",
       "    if (name == 'key_release')\n",
       "        this._key = null;\n",
       "\n",
       "    var value = '';\n",
       "    if (event.ctrlKey && event.which != 17)\n",
       "        value += \"ctrl+\";\n",
       "    if (event.altKey && event.which != 18)\n",
       "        value += \"alt+\";\n",
       "    if (event.shiftKey && event.which != 16)\n",
       "        value += \"shift+\";\n",
       "\n",
       "    value += 'k';\n",
       "    value += event.which.toString();\n",
       "\n",
       "    this._key_event_extra(event, name);\n",
       "\n",
       "    this.send_message(name, {key: value,\n",
       "                             guiEvent: simpleKeys(event)});\n",
       "    return false;\n",
       "}\n",
       "\n",
       "mpl.figure.prototype.toolbar_button_onclick = function(name) {\n",
       "    if (name == 'download') {\n",
       "        this.handle_save(this, null);\n",
       "    } else {\n",
       "        this.send_message(\"toolbar_button\", {name: name});\n",
       "    }\n",
       "};\n",
       "\n",
       "mpl.figure.prototype.toolbar_button_onmouseover = function(tooltip) {\n",
       "    this.message.textContent = tooltip;\n",
       "};\n",
       "mpl.toolbar_items = [[\"Home\", \"Reset original view\", \"fa fa-home icon-home\", \"home\"], [\"Back\", \"Back to  previous view\", \"fa fa-arrow-left icon-arrow-left\", \"back\"], [\"Forward\", \"Forward to next view\", \"fa fa-arrow-right icon-arrow-right\", \"forward\"], [\"\", \"\", \"\", \"\"], [\"Pan\", \"Pan axes with left mouse, zoom with right\", \"fa fa-arrows icon-move\", \"pan\"], [\"Zoom\", \"Zoom to rectangle\", \"fa fa-square-o icon-check-empty\", \"zoom\"], [\"\", \"\", \"\", \"\"], [\"Download\", \"Download plot\", \"fa fa-floppy-o icon-save\", \"download\"]];\n",
       "\n",
       "mpl.extensions = [\"eps\", \"jpeg\", \"pdf\", \"png\", \"ps\", \"raw\", \"svg\", \"tif\"];\n",
       "\n",
       "mpl.default_extension = \"png\";var comm_websocket_adapter = function(comm) {\n",
       "    // Create a \"websocket\"-like object which calls the given IPython comm\n",
       "    // object with the appropriate methods. Currently this is a non binary\n",
       "    // socket, so there is still some room for performance tuning.\n",
       "    var ws = {};\n",
       "\n",
       "    ws.close = function() {\n",
       "        comm.close()\n",
       "    };\n",
       "    ws.send = function(m) {\n",
       "        //console.log('sending', m);\n",
       "        comm.send(m);\n",
       "    };\n",
       "    // Register the callback with on_msg.\n",
       "    comm.on_msg(function(msg) {\n",
       "        //console.log('receiving', msg['content']['data'], msg);\n",
       "        // Pass the mpl event to the overriden (by mpl) onmessage function.\n",
       "        ws.onmessage(msg['content']['data'])\n",
       "    });\n",
       "    return ws;\n",
       "}\n",
       "\n",
       "mpl.mpl_figure_comm = function(comm, msg) {\n",
       "    // This is the function which gets called when the mpl process\n",
       "    // starts-up an IPython Comm through the \"matplotlib\" channel.\n",
       "\n",
       "    var id = msg.content.data.id;\n",
       "    // Get hold of the div created by the display call when the Comm\n",
       "    // socket was opened in Python.\n",
       "    var element = $(\"#\" + id);\n",
       "    var ws_proxy = comm_websocket_adapter(comm)\n",
       "\n",
       "    function ondownload(figure, format) {\n",
       "        window.open(figure.imageObj.src);\n",
       "    }\n",
       "\n",
       "    var fig = new mpl.figure(id, ws_proxy,\n",
       "                           ondownload,\n",
       "                           element.get(0));\n",
       "\n",
       "    // Call onopen now - mpl needs it, as it is assuming we've passed it a real\n",
       "    // web socket which is closed, not our websocket->open comm proxy.\n",
       "    ws_proxy.onopen();\n",
       "\n",
       "    fig.parent_element = element.get(0);\n",
       "    fig.cell_info = mpl.find_output_cell(\"<div id='\" + id + \"'></div>\");\n",
       "    if (!fig.cell_info) {\n",
       "        console.error(\"Failed to find cell for figure\", id, fig);\n",
       "        return;\n",
       "    }\n",
       "\n",
       "    var output_index = fig.cell_info[2]\n",
       "    var cell = fig.cell_info[0];\n",
       "\n",
       "};\n",
       "\n",
       "mpl.figure.prototype.handle_close = function(fig, msg) {\n",
       "    fig.root.unbind('remove')\n",
       "\n",
       "    // Update the output cell to use the data from the current canvas.\n",
       "    fig.push_to_output();\n",
       "    var dataURL = fig.canvas.toDataURL();\n",
       "    // Re-enable the keyboard manager in IPython - without this line, in FF,\n",
       "    // the notebook keyboard shortcuts fail.\n",
       "    IPython.keyboard_manager.enable()\n",
       "    $(fig.parent_element).html('<img src=\"' + dataURL + '\">');\n",
       "    fig.close_ws(fig, msg);\n",
       "}\n",
       "\n",
       "mpl.figure.prototype.close_ws = function(fig, msg){\n",
       "    fig.send_message('closing', msg);\n",
       "    // fig.ws.close()\n",
       "}\n",
       "\n",
       "mpl.figure.prototype.push_to_output = function(remove_interactive) {\n",
       "    // Turn the data on the canvas into data in the output cell.\n",
       "    var dataURL = this.canvas.toDataURL();\n",
       "    this.cell_info[1]['text/html'] = '<img src=\"' + dataURL + '\">';\n",
       "}\n",
       "\n",
       "mpl.figure.prototype.updated_canvas_event = function() {\n",
       "    // Tell IPython that the notebook contents must change.\n",
       "    IPython.notebook.set_dirty(true);\n",
       "    this.send_message(\"ack\", {});\n",
       "    var fig = this;\n",
       "    // Wait a second, then push the new image to the DOM so\n",
       "    // that it is saved nicely (might be nice to debounce this).\n",
       "    setTimeout(function () { fig.push_to_output() }, 1000);\n",
       "}\n",
       "\n",
       "mpl.figure.prototype._init_toolbar = function() {\n",
       "    var fig = this;\n",
       "\n",
       "    var nav_element = $('<div/>')\n",
       "    nav_element.attr('style', 'width: 100%');\n",
       "    this.root.append(nav_element);\n",
       "\n",
       "    // Define a callback function for later on.\n",
       "    function toolbar_event(event) {\n",
       "        return fig.toolbar_button_onclick(event['data']);\n",
       "    }\n",
       "    function toolbar_mouse_event(event) {\n",
       "        return fig.toolbar_button_onmouseover(event['data']);\n",
       "    }\n",
       "\n",
       "    for(var toolbar_ind in mpl.toolbar_items){\n",
       "        var name = mpl.toolbar_items[toolbar_ind][0];\n",
       "        var tooltip = mpl.toolbar_items[toolbar_ind][1];\n",
       "        var image = mpl.toolbar_items[toolbar_ind][2];\n",
       "        var method_name = mpl.toolbar_items[toolbar_ind][3];\n",
       "\n",
       "        if (!name) { continue; };\n",
       "\n",
       "        var button = $('<button class=\"btn btn-default\" href=\"#\" title=\"' + name + '\"><i class=\"fa ' + image + ' fa-lg\"></i></button>');\n",
       "        button.click(method_name, toolbar_event);\n",
       "        button.mouseover(tooltip, toolbar_mouse_event);\n",
       "        nav_element.append(button);\n",
       "    }\n",
       "\n",
       "    // Add the status bar.\n",
       "    var status_bar = $('<span class=\"mpl-message\" style=\"text-align:right; float: right;\"/>');\n",
       "    nav_element.append(status_bar);\n",
       "    this.message = status_bar[0];\n",
       "\n",
       "    // Add the close button to the window.\n",
       "    var buttongrp = $('<div class=\"btn-group inline pull-right\"></div>');\n",
       "    var button = $('<button class=\"btn btn-mini btn-primary\" href=\"#\" title=\"Stop Interaction\"><i class=\"fa fa-power-off icon-remove icon-large\"></i></button>');\n",
       "    button.click(function (evt) { fig.handle_close(fig, {}); } );\n",
       "    button.mouseover('Stop Interaction', toolbar_mouse_event);\n",
       "    buttongrp.append(button);\n",
       "    var titlebar = this.root.find($('.ui-dialog-titlebar'));\n",
       "    titlebar.prepend(buttongrp);\n",
       "}\n",
       "\n",
       "mpl.figure.prototype._root_extra_style = function(el){\n",
       "    var fig = this\n",
       "    el.on(\"remove\", function(){\n",
       "\tfig.close_ws(fig, {});\n",
       "    });\n",
       "}\n",
       "\n",
       "mpl.figure.prototype._canvas_extra_style = function(el){\n",
       "    // this is important to make the div 'focusable\n",
       "    el.attr('tabindex', 0)\n",
       "    // reach out to IPython and tell the keyboard manager to turn it's self\n",
       "    // off when our div gets focus\n",
       "\n",
       "    // location in version 3\n",
       "    if (IPython.notebook.keyboard_manager) {\n",
       "        IPython.notebook.keyboard_manager.register_events(el);\n",
       "    }\n",
       "    else {\n",
       "        // location in version 2\n",
       "        IPython.keyboard_manager.register_events(el);\n",
       "    }\n",
       "\n",
       "}\n",
       "\n",
       "mpl.figure.prototype._key_event_extra = function(event, name) {\n",
       "    var manager = IPython.notebook.keyboard_manager;\n",
       "    if (!manager)\n",
       "        manager = IPython.keyboard_manager;\n",
       "\n",
       "    // Check for shift+enter\n",
       "    if (event.shiftKey && event.which == 13) {\n",
       "        this.canvas_div.blur();\n",
       "        event.shiftKey = false;\n",
       "        // Send a \"J\" for go to next cell\n",
       "        event.which = 74;\n",
       "        event.keyCode = 74;\n",
       "        manager.command_mode();\n",
       "        manager.handle_keydown(event);\n",
       "    }\n",
       "}\n",
       "\n",
       "mpl.figure.prototype.handle_save = function(fig, msg) {\n",
       "    fig.ondownload(fig, null);\n",
       "}\n",
       "\n",
       "\n",
       "mpl.find_output_cell = function(html_output) {\n",
       "    // Return the cell and output element which can be found *uniquely* in the notebook.\n",
       "    // Note - this is a bit hacky, but it is done because the \"notebook_saving.Notebook\"\n",
       "    // IPython event is triggered only after the cells have been serialised, which for\n",
       "    // our purposes (turning an active figure into a static one), is too late.\n",
       "    var cells = IPython.notebook.get_cells();\n",
       "    var ncells = cells.length;\n",
       "    for (var i=0; i<ncells; i++) {\n",
       "        var cell = cells[i];\n",
       "        if (cell.cell_type === 'code'){\n",
       "            for (var j=0; j<cell.output_area.outputs.length; j++) {\n",
       "                var data = cell.output_area.outputs[j];\n",
       "                if (data.data) {\n",
       "                    // IPython >= 3 moved mimebundle to data attribute of output\n",
       "                    data = data.data;\n",
       "                }\n",
       "                if (data['text/html'] == html_output) {\n",
       "                    return [cell, data, j];\n",
       "                }\n",
       "            }\n",
       "        }\n",
       "    }\n",
       "}\n",
       "\n",
       "// Register the function which deals with the matplotlib target/channel.\n",
       "// The kernel may be null if the page has been refreshed.\n",
       "if (IPython.notebook.kernel != null) {\n",
       "    IPython.notebook.kernel.comm_manager.register_target('matplotlib', mpl.mpl_figure_comm);\n",
       "}\n"
      ],
      "text/plain": [
       "<IPython.core.display.Javascript object>"
      ]
     },
     "metadata": {},
     "output_type": "display_data"
    },
    {
     "data": {
      "text/html": [
       "<img src=\"data:image/png;base64,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\">"
      ],
      "text/plain": [
       "<IPython.core.display.HTML object>"
      ]
     },
     "metadata": {},
     "output_type": "display_data"
    },
    {
     "data": {
      "text/html": [
       "&lt;Table length=103&gt;\n",
       "<table id=\"table4554435152\" class=\"table-striped table-bordered table-condensed\">\n",
       "<thead><tr><th>mjd</th><th>filter</th><th>flux</th><th>flux_error</th><th>zp</th><th>zpsys</th></tr></thead>\n",
       "<thead><tr><th>float64</th><th>str4</th><th>float64</th><th>float64</th><th>float64</th><th>str2</th></tr></thead>\n",
       "<tr><td>0.0</td><td>desg</td><td>5.12773482611</td><td>10.48</td><td>27.5</td><td>ab</td></tr>\n",
       "<tr><td>0.0160000000033</td><td>desr</td><td>-25.547566965</td><td>7.845</td><td>27.5</td><td>ab</td></tr>\n",
       "<tr><td>0.0320000000065</td><td>desi</td><td>2.53942086865</td><td>9.314</td><td>27.5</td><td>ab</td></tr>\n",
       "<tr><td>0.977000000006</td><td>desz</td><td>-3.55379552505</td><td>5.328</td><td>27.5</td><td>ab</td></tr>\n",
       "<tr><td>1.985</td><td>desg</td><td>3.68469587618</td><td>3.205</td><td>27.5</td><td>ab</td></tr>\n",
       "<tr><td>2.0</td><td>desr</td><td>1.35975185827</td><td>2.425</td><td>27.5</td><td>ab</td></tr>\n",
       "<tr><td>2.016</td><td>desi</td><td>-2.72036673211</td><td>4.31</td><td>27.5</td><td>ab</td></tr>\n",
       "<tr><td>9.957</td><td>desz</td><td>-25.5723808372</td><td>27.32</td><td>27.5</td><td>ab</td></tr>\n",
       "<tr><td>10.106</td><td>desg</td><td>21.6569924755</td><td>25.57</td><td>27.5</td><td>ab</td></tr>\n",
       "<tr><td>10.121</td><td>desr</td><td>3.92250910408</td><td>4.152</td><td>27.5</td><td>ab</td></tr>\n",
       "<tr><td>...</td><td>...</td><td>...</td><td>...</td><td>...</td><td>...</td></tr>\n",
       "<tr><td>113.957</td><td>desi</td><td>23.4584644667</td><td>5.61</td><td>27.5</td><td>ab</td></tr>\n",
       "<tr><td>113.965</td><td>desz</td><td>16.2095159941</td><td>5.166</td><td>27.5</td><td>ab</td></tr>\n",
       "<tr><td>125.817</td><td>desg</td><td>-2.4839301991</td><td>2.48</td><td>27.5</td><td>ab</td></tr>\n",
       "<tr><td>125.821</td><td>desr</td><td>1.12882782728</td><td>1.659</td><td>27.5</td><td>ab</td></tr>\n",
       "<tr><td>125.836</td><td>desi</td><td>7.05345719284</td><td>2.513</td><td>27.5</td><td>ab</td></tr>\n",
       "<tr><td>125.852</td><td>desz</td><td>10.479530953</td><td>3.94</td><td>27.5</td><td>ab</td></tr>\n",
       "<tr><td>133.821</td><td>desg</td><td>-7.38083931055</td><td>7.568</td><td>27.5</td><td>ab</td></tr>\n",
       "<tr><td>133.832</td><td>desr</td><td>0.926161663321</td><td>2.963</td><td>27.5</td><td>ab</td></tr>\n",
       "<tr><td>133.856</td><td>desi</td><td>3.85456429627</td><td>5.022</td><td>27.5</td><td>ab</td></tr>\n",
       "<tr><td>133.879</td><td>desz</td><td>23.2725902255</td><td>5.441</td><td>27.5</td><td>ab</td></tr>\n",
       "</table>"
      ],
      "text/plain": [
       "<Table length=103>\n",
       "      mjd       filter      flux      flux_error    zp   zpsys\n",
       "    float64      str4     float64      float64   float64  str2\n",
       "--------------- ------ -------------- ---------- ------- -----\n",
       "            0.0   desg  5.12773482611      10.48    27.5    ab\n",
       "0.0160000000033   desr  -25.547566965      7.845    27.5    ab\n",
       "0.0320000000065   desi  2.53942086865      9.314    27.5    ab\n",
       " 0.977000000006   desz -3.55379552505      5.328    27.5    ab\n",
       "          1.985   desg  3.68469587618      3.205    27.5    ab\n",
       "            2.0   desr  1.35975185827      2.425    27.5    ab\n",
       "          2.016   desi -2.72036673211       4.31    27.5    ab\n",
       "          9.957   desz -25.5723808372      27.32    27.5    ab\n",
       "         10.106   desg  21.6569924755      25.57    27.5    ab\n",
       "         10.121   desr  3.92250910408      4.152    27.5    ab\n",
       "            ...    ...            ...        ...     ...   ...\n",
       "        113.957   desi  23.4584644667       5.61    27.5    ab\n",
       "        113.965   desz  16.2095159941      5.166    27.5    ab\n",
       "        125.817   desg  -2.4839301991       2.48    27.5    ab\n",
       "        125.821   desr  1.12882782728      1.659    27.5    ab\n",
       "        125.836   desi  7.05345719284      2.513    27.5    ab\n",
       "        125.852   desz   10.479530953       3.94    27.5    ab\n",
       "        133.821   desg -7.38083931055      7.568    27.5    ab\n",
       "        133.832   desr 0.926161663321      2.963    27.5    ab\n",
       "        133.856   desi  3.85456429627      5.022    27.5    ab\n",
       "        133.879   desz  23.2725902255      5.441    27.5    ab"
      ]
     },
     "execution_count": 19,
     "metadata": {},
     "output_type": "execute_result"
    }
   ],
   "source": [
    "dat.plot_all()\n",
    "dat.data[dat.object_names[0]]"
   ]
  },
  {
   "cell_type": "code",
   "execution_count": 36,
   "metadata": {
    "collapsed": false
   },
   "outputs": [
    {
     "data": {
      "text/plain": [
       "array(['DES_SN002457.DAT', 'DES_SN002542.DAT', 'DES_SN005399.DAT'], \n",
       "      dtype='|S16')"
      ]
     },
     "execution_count": 36,
     "metadata": {},
     "output_type": "execute_result"
    }
   ],
   "source": [
    "dat.get_object_names()"
   ]
  },
  {
   "cell_type": "code",
   "execution_count": 26,
   "metadata": {
    "collapsed": true
   },
   "outputs": [],
   "source": [
    "mod1Feats=snfeatures.ParametricFeatures('karpenka',sampler='leastsq')"
   ]
  },
  {
   "cell_type": "code",
   "execution_count": 28,
   "metadata": {
    "collapsed": false
   },
   "outputs": [
    {
     "name": "stdout",
     "output_type": "stream",
     "text": [
      "15 objects fitted\n",
      "Time taken is 3.59 seconds\n"
     ]
    }
   ],
   "source": [
    "%%capture --no-stdout\n",
    "if read_from_file:\n",
    "    mod1_features=Table.read('%s_karpenka.dat' %run_name, format='ascii')\n",
    "    blah=mod1_features['Object'].astype(str)\n",
    "    mod1_features.replace_column('Object', blah)\n",
    "else:\n",
    "    mod1_features=mod1Feats.extract_features(dat,nprocesses=6,chain_directory=out_int)\n",
    "    mod1_features.write('%s_karpenka.dat' %run_name, format='ascii')"
   ]
  },
  {
   "cell_type": "code",
   "execution_count": 34,
   "metadata": {
    "collapsed": false
   },
   "outputs": [
    {
     "name": "stdout",
     "output_type": "stream",
     "text": [
      "Object desg-logA desg-logB desg-t0 ...   desz-t1   desz-T_rise desz-T_fall\n",
      "------ --------- --------- ------- ... ----------- ----------- -----------\n",
      "     0   2.38137  -3.48903 68.8674 ...  2.4919e-05     2.46609     19.1614\n",
      "     1  -8.02858     4.241 69.3023 ...     99.9999  0.00459644     74.9492\n",
      "     2 -0.168365  -1.15062 24.2094 ...     99.9978     2.96625      49.885\n",
      "     3   -8.8668   4.52717 65.5084 ... 0.000345783 0.000976516     16.6522\n",
      "     4   -1.1022   2.43362 29.9359 ...     99.9999     3.07166     53.7644\n",
      "     5  -5.46524   2.02873 6.08712 ...     25.7114     4.90766      17.466\n",
      "     6  -4.76349   1.07703 4.08325 ...     20.4173      5.6665      22.665\n",
      "     7  -5.84966   2.63388 7.02519 ...     28.8766      5.0137     31.5863\n",
      "     8  -1.15329  -2.13015 4.76573 ...      24.598     4.91229     17.6525\n",
      "     9  -5.20489   2.19687 9.05858 ...     32.6036     5.66045     34.2314\n",
      "    10   0.41203  -1.73109 1.57516 ...     6.29117  0.00915248     37.6758\n",
      "    11 -0.462417  -2.64713 1.05815 ...     14.4806     2.18394     35.6219\n",
      "    12  0.628065  -3.63877 17.7348 ...     16.3779      5.8025     34.8624\n",
      "    13  -4.46859    1.5429  42.343 ...      15.306     3.26356     35.8882\n",
      "    14  0.156958   -11.463  67.424 ...     10.6943     2.26382     35.2874\n"
     ]
    }
   ],
   "source": [
    "#Unfortunately, sometimes the fitting methods return NaN for some parameters for these models.\n",
    "for c in mod1_features.colnames[1:]:\n",
    "    mod1_features[c][np.isnan(mod1_features[c])]=0\n",
    "    \n",
    "print mod1_features"
   ]
  },
  {
   "cell_type": "code",
   "execution_count": 39,
   "metadata": {
    "collapsed": false
   },
   "outputs": [
    {
     "data": {
      "text/plain": [
       "<bound method ParametricFeatures.fit_sn of <snmachine.snfeatures.ParametricFeatures instance at 0x110a6def0>>"
      ]
     },
     "execution_count": 39,
     "metadata": {},
     "output_type": "execute_result"
    }
   ],
   "source": [
    "mod1Feats.fit_sn\n",
    "#dat.set_model(mod1Feats.fit_sn,mod1_features)"
   ]
  },
  {
   "cell_type": "raw",
   "metadata": {
    "collapsed": true
   },
   "source": [
    "waveFeats=snfeatures.WaveletFeatures()"
   ]
  },
  {
   "cell_type": "raw",
   "metadata": {
    "collapsed": false
   },
   "source": [
    "%%capture --no-stdout\n",
    "if read_from_file:\n",
    "    wave_features=Table.read('%s_wavelets.dat' %run_name, format='ascii')\n",
    "    #Crucial for this format of id's\n",
    "    blah=wave_features['Object'].astype(str)\n",
    "    wave_features.replace_column('Object', blah)\n",
    "    PCA_vals=np.loadtxt('%s_wavelets_PCA_vals.dat' %run_name)\n",
    "    PCA_vec=np.loadtxt('%s_wavelets_PCA_vec.dat' %run_name)\n",
    "    PCA_mean=np.loadtxt('%s_wavelets_PCA_mean.dat' %run_name)\n",
    "else:\n",
    "    wave_features=waveFeats.extract_features(dat,nprocesses=6,output_root=out_int,save_output='all')\n",
    "    wave_features.write('%s_wavelets.dat' %run_name, format='ascii')\n",
    "    np.savetxt('%s_wavelets_PCA_vals.dat' %run_name,waveFeats.PCA_eigenvals)\n",
    "    np.savetxt('%s_wavelets_PCA_vec.dat' %run_name,waveFeats.PCA_eigenvectors)\n",
    "    np.savetxt('%s_wavelets_PCA_mean.dat' %run_name,waveFeats.PCA_mean)\n",
    "    \n",
    "    PCA_vals=waveFeats.PCA_eigenvals\n",
    "    PCA_vec=waveFeats.PCA_eigenvectors\n",
    "    PCA_mean=waveFeats.PCA_mean"
   ]
  },
  {
   "cell_type": "code",
   "execution_count": 17,
   "metadata": {
    "collapsed": false
   },
   "outputs": [],
   "source": [
    "#np.sort(dat.object_names)"
   ]
  },
  {
   "cell_type": "code",
   "execution_count": 23,
   "metadata": {
    "collapsed": false
   },
   "outputs": [
    {
     "name": "stdout",
     "output_type": "stream",
     "text": [
      "Fitting supernova models...\n",
      "Models fitted.\n"
     ]
    }
   ],
   "source": [
    "#dat.set_model(waveFeats.fit_sn,wave_features,PCA_vec,PCA_mean,0,dat.get_max_length(),dat.filter_set)"
   ]
  },
  {
   "cell_type": "code",
   "execution_count": 9,
   "metadata": {
    "collapsed": false
   },
   "outputs": [],
   "source": [
    "#dat.plot_all()"
   ]
  },
  {
   "cell_type": "code",
   "execution_count": 10,
   "metadata": {
    "collapsed": false
   },
   "outputs": [],
   "source": [
    "#wave_features"
   ]
  },
  {
   "cell_type": "code",
   "execution_count": 11,
   "metadata": {
    "collapsed": false
   },
   "outputs": [],
   "source": [
    "#types"
   ]
  },
  {
   "cell_type": "code",
   "execution_count": 12,
   "metadata": {
    "collapsed": false
   },
   "outputs": [],
   "source": [
    "#join(wave_features, types)"
   ]
  },
  {
   "cell_type": "code",
   "execution_count": 13,
   "metadata": {
    "collapsed": false
   },
   "outputs": [],
   "source": [
    "#plt.figure()\n",
    "#tsne_plot.plot(wave_features,join(wave_features,types)['Type'])"
   ]
  },
  {
   "cell_type": "raw",
   "metadata": {
    "collapsed": false
   },
   "source": [
    "#This is a Features object, not yet the extracted features\n",
    "#We need to register the LSST bands with sncosmo (which is why lsst_bands=True)\n",
    "salt2Feats=snfeatures.TemplateFeatures(sampler='leastsq') \n",
    "\n",
    "#This performs the actual feature extraction. All feature extraction methods are parallelised with multiprocessing, \n",
    "#just set nprocesses>1 for parallelisation.\n",
    "if read_from_file:\n",
    "    salt2_features=Table.read('%s_templates.dat' %run_name, format='ascii')\n",
    "    blah=salt2_features['Object'].astype(str)\n",
    "    salt2_features.replace_column('Object', blah)\n",
    "else:\n",
    "    salt2_features=salt2Feats.extract_features(dat,use_redshift=True,nprocesses=6,chain_directory=out_int)\n",
    "    salt2_features.write('%s_templates.dat' %run_name, format='ascii')\n",
    "    \n"
   ]
  },
  {
   "cell_type": "code",
   "execution_count": 14,
   "metadata": {
    "collapsed": false
   },
   "outputs": [],
   "source": [
    "#This code takes the fitted parameters and generates the model light curve for plotting purposes.\n",
    "#dat.set_model(salt2Feats.fit_sn,salt2_features)"
   ]
  },
  {
   "cell_type": "code",
   "execution_count": 15,
   "metadata": {
    "collapsed": false
   },
   "outputs": [],
   "source": [
    "#dat.plot_all()"
   ]
  },
  {
   "cell_type": "code",
   "execution_count": 16,
   "metadata": {
    "collapsed": false
   },
   "outputs": [],
   "source": [
    "#dat.data[dat.object_names[5]]"
   ]
  },
  {
   "cell_type": "code",
   "execution_count": null,
   "metadata": {
    "collapsed": true
   },
   "outputs": [],
   "source": []
  }
 ],
 "metadata": {
  "kernelspec": {
   "display_name": "Python 2",
   "language": "python",
   "name": "python2"
  },
  "language_info": {
   "codemirror_mode": {
    "name": "ipython",
    "version": 2
   },
   "file_extension": ".py",
   "mimetype": "text/x-python",
   "name": "python",
   "nbconvert_exporter": "python",
   "pygments_lexer": "ipython2",
   "version": "2.7.12"
  }
 },
 "nbformat": 4,
 "nbformat_minor": 0
}
